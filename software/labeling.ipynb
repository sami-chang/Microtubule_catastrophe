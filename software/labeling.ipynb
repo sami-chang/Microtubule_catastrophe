{
 "cells": [
  {
   "cell_type": "code",
   "execution_count": 26,
   "id": "69c98133-dcd6-44f4-99d3-4fba1a87e393",
   "metadata": {},
   "outputs": [
    {
     "data": {
      "text/html": [
       "\n",
       "    <div class=\"bk-root\">\n",
       "        <a href=\"https://bokeh.org\" target=\"_blank\" class=\"bk-logo bk-logo-small bk-logo-notebook\"></a>\n",
       "        <span id=\"2545\">Loading BokehJS ...</span>\n",
       "    </div>"
      ]
     },
     "metadata": {},
     "output_type": "display_data"
    },
    {
     "data": {
      "application/javascript": [
       "\n",
       "(function(root) {\n",
       "  function now() {\n",
       "    return new Date();\n",
       "  }\n",
       "\n",
       "  var force = true;\n",
       "\n",
       "  if (typeof root._bokeh_onload_callbacks === \"undefined\" || force === true) {\n",
       "    root._bokeh_onload_callbacks = [];\n",
       "    root._bokeh_is_loading = undefined;\n",
       "  }\n",
       "\n",
       "  var JS_MIME_TYPE = 'application/javascript';\n",
       "  var HTML_MIME_TYPE = 'text/html';\n",
       "  var EXEC_MIME_TYPE = 'application/vnd.bokehjs_exec.v0+json';\n",
       "  var CLASS_NAME = 'output_bokeh rendered_html';\n",
       "\n",
       "  /**\n",
       "   * Render data to the DOM node\n",
       "   */\n",
       "  function render(props, node) {\n",
       "    var script = document.createElement(\"script\");\n",
       "    node.appendChild(script);\n",
       "  }\n",
       "\n",
       "  /**\n",
       "   * Handle when an output is cleared or removed\n",
       "   */\n",
       "  function handleClearOutput(event, handle) {\n",
       "    var cell = handle.cell;\n",
       "\n",
       "    var id = cell.output_area._bokeh_element_id;\n",
       "    var server_id = cell.output_area._bokeh_server_id;\n",
       "    // Clean up Bokeh references\n",
       "    if (id != null && id in Bokeh.index) {\n",
       "      Bokeh.index[id].model.document.clear();\n",
       "      delete Bokeh.index[id];\n",
       "    }\n",
       "\n",
       "    if (server_id !== undefined) {\n",
       "      // Clean up Bokeh references\n",
       "      var cmd = \"from bokeh.io.state import curstate; print(curstate().uuid_to_server['\" + server_id + \"'].get_sessions()[0].document.roots[0]._id)\";\n",
       "      cell.notebook.kernel.execute(cmd, {\n",
       "        iopub: {\n",
       "          output: function(msg) {\n",
       "            var id = msg.content.text.trim();\n",
       "            if (id in Bokeh.index) {\n",
       "              Bokeh.index[id].model.document.clear();\n",
       "              delete Bokeh.index[id];\n",
       "            }\n",
       "          }\n",
       "        }\n",
       "      });\n",
       "      // Destroy server and session\n",
       "      var cmd = \"import bokeh.io.notebook as ion; ion.destroy_server('\" + server_id + \"')\";\n",
       "      cell.notebook.kernel.execute(cmd);\n",
       "    }\n",
       "  }\n",
       "\n",
       "  /**\n",
       "   * Handle when a new output is added\n",
       "   */\n",
       "  function handleAddOutput(event, handle) {\n",
       "    var output_area = handle.output_area;\n",
       "    var output = handle.output;\n",
       "\n",
       "    // limit handleAddOutput to display_data with EXEC_MIME_TYPE content only\n",
       "    if ((output.output_type != \"display_data\") || (!Object.prototype.hasOwnProperty.call(output.data, EXEC_MIME_TYPE))) {\n",
       "      return\n",
       "    }\n",
       "\n",
       "    var toinsert = output_area.element.find(\".\" + CLASS_NAME.split(' ')[0]);\n",
       "\n",
       "    if (output.metadata[EXEC_MIME_TYPE][\"id\"] !== undefined) {\n",
       "      toinsert[toinsert.length - 1].firstChild.textContent = output.data[JS_MIME_TYPE];\n",
       "      // store reference to embed id on output_area\n",
       "      output_area._bokeh_element_id = output.metadata[EXEC_MIME_TYPE][\"id\"];\n",
       "    }\n",
       "    if (output.metadata[EXEC_MIME_TYPE][\"server_id\"] !== undefined) {\n",
       "      var bk_div = document.createElement(\"div\");\n",
       "      bk_div.innerHTML = output.data[HTML_MIME_TYPE];\n",
       "      var script_attrs = bk_div.children[0].attributes;\n",
       "      for (var i = 0; i < script_attrs.length; i++) {\n",
       "        toinsert[toinsert.length - 1].firstChild.setAttribute(script_attrs[i].name, script_attrs[i].value);\n",
       "        toinsert[toinsert.length - 1].firstChild.textContent = bk_div.children[0].textContent\n",
       "      }\n",
       "      // store reference to server id on output_area\n",
       "      output_area._bokeh_server_id = output.metadata[EXEC_MIME_TYPE][\"server_id\"];\n",
       "    }\n",
       "  }\n",
       "\n",
       "  function register_renderer(events, OutputArea) {\n",
       "\n",
       "    function append_mime(data, metadata, element) {\n",
       "      // create a DOM node to render to\n",
       "      var toinsert = this.create_output_subarea(\n",
       "        metadata,\n",
       "        CLASS_NAME,\n",
       "        EXEC_MIME_TYPE\n",
       "      );\n",
       "      this.keyboard_manager.register_events(toinsert);\n",
       "      // Render to node\n",
       "      var props = {data: data, metadata: metadata[EXEC_MIME_TYPE]};\n",
       "      render(props, toinsert[toinsert.length - 1]);\n",
       "      element.append(toinsert);\n",
       "      return toinsert\n",
       "    }\n",
       "\n",
       "    /* Handle when an output is cleared or removed */\n",
       "    events.on('clear_output.CodeCell', handleClearOutput);\n",
       "    events.on('delete.Cell', handleClearOutput);\n",
       "\n",
       "    /* Handle when a new output is added */\n",
       "    events.on('output_added.OutputArea', handleAddOutput);\n",
       "\n",
       "    /**\n",
       "     * Register the mime type and append_mime function with output_area\n",
       "     */\n",
       "    OutputArea.prototype.register_mime_type(EXEC_MIME_TYPE, append_mime, {\n",
       "      /* Is output safe? */\n",
       "      safe: true,\n",
       "      /* Index of renderer in `output_area.display_order` */\n",
       "      index: 0\n",
       "    });\n",
       "  }\n",
       "\n",
       "  // register the mime type if in Jupyter Notebook environment and previously unregistered\n",
       "  if (root.Jupyter !== undefined) {\n",
       "    var events = require('base/js/events');\n",
       "    var OutputArea = require('notebook/js/outputarea').OutputArea;\n",
       "\n",
       "    if (OutputArea.prototype.mime_types().indexOf(EXEC_MIME_TYPE) == -1) {\n",
       "      register_renderer(events, OutputArea);\n",
       "    }\n",
       "  }\n",
       "\n",
       "  \n",
       "  if (typeof (root._bokeh_timeout) === \"undefined\" || force === true) {\n",
       "    root._bokeh_timeout = Date.now() + 5000;\n",
       "    root._bokeh_failed_load = false;\n",
       "  }\n",
       "\n",
       "  var NB_LOAD_WARNING = {'data': {'text/html':\n",
       "     \"<div style='background-color: #fdd'>\\n\"+\n",
       "     \"<p>\\n\"+\n",
       "     \"BokehJS does not appear to have successfully loaded. If loading BokehJS from CDN, this \\n\"+\n",
       "     \"may be due to a slow or bad network connection. Possible fixes:\\n\"+\n",
       "     \"</p>\\n\"+\n",
       "     \"<ul>\\n\"+\n",
       "     \"<li>re-rerun `output_notebook()` to attempt to load from CDN again, or</li>\\n\"+\n",
       "     \"<li>use INLINE resources instead, as so:</li>\\n\"+\n",
       "     \"</ul>\\n\"+\n",
       "     \"<code>\\n\"+\n",
       "     \"from bokeh.resources import INLINE\\n\"+\n",
       "     \"output_notebook(resources=INLINE)\\n\"+\n",
       "     \"</code>\\n\"+\n",
       "     \"</div>\"}};\n",
       "\n",
       "  function display_loaded() {\n",
       "    var el = document.getElementById(\"2545\");\n",
       "    if (el != null) {\n",
       "      el.textContent = \"BokehJS is loading...\";\n",
       "    }\n",
       "    if (root.Bokeh !== undefined) {\n",
       "      if (el != null) {\n",
       "        el.textContent = \"BokehJS \" + root.Bokeh.version + \" successfully loaded.\";\n",
       "      }\n",
       "    } else if (Date.now() < root._bokeh_timeout) {\n",
       "      setTimeout(display_loaded, 100)\n",
       "    }\n",
       "  }\n",
       "\n",
       "\n",
       "  function run_callbacks() {\n",
       "    try {\n",
       "      root._bokeh_onload_callbacks.forEach(function(callback) {\n",
       "        if (callback != null)\n",
       "          callback();\n",
       "      });\n",
       "    } finally {\n",
       "      delete root._bokeh_onload_callbacks\n",
       "    }\n",
       "    console.debug(\"Bokeh: all callbacks have finished\");\n",
       "  }\n",
       "\n",
       "  function load_libs(css_urls, js_urls, callback) {\n",
       "    if (css_urls == null) css_urls = [];\n",
       "    if (js_urls == null) js_urls = [];\n",
       "\n",
       "    root._bokeh_onload_callbacks.push(callback);\n",
       "    if (root._bokeh_is_loading > 0) {\n",
       "      console.debug(\"Bokeh: BokehJS is being loaded, scheduling callback at\", now());\n",
       "      return null;\n",
       "    }\n",
       "    if (js_urls == null || js_urls.length === 0) {\n",
       "      run_callbacks();\n",
       "      return null;\n",
       "    }\n",
       "    console.debug(\"Bokeh: BokehJS not loaded, scheduling load and callback at\", now());\n",
       "    root._bokeh_is_loading = css_urls.length + js_urls.length;\n",
       "\n",
       "    function on_load() {\n",
       "      root._bokeh_is_loading--;\n",
       "      if (root._bokeh_is_loading === 0) {\n",
       "        console.debug(\"Bokeh: all BokehJS libraries/stylesheets loaded\");\n",
       "        run_callbacks()\n",
       "      }\n",
       "    }\n",
       "\n",
       "    function on_error(url) {\n",
       "      console.error(\"failed to load \" + url);\n",
       "    }\n",
       "\n",
       "    for (let i = 0; i < css_urls.length; i++) {\n",
       "      const url = css_urls[i];\n",
       "      const element = document.createElement(\"link\");\n",
       "      element.onload = on_load;\n",
       "      element.onerror = on_error.bind(null, url);\n",
       "      element.rel = \"stylesheet\";\n",
       "      element.type = \"text/css\";\n",
       "      element.href = url;\n",
       "      console.debug(\"Bokeh: injecting link tag for BokehJS stylesheet: \", url);\n",
       "      document.body.appendChild(element);\n",
       "    }\n",
       "\n",
       "    const hashes = {\"https://cdn.bokeh.org/bokeh/release/bokeh-2.3.3.min.js\": \"dM3QQsP+wXdHg42wTqW85BjZQdLNNIXqlPw/BgKoExPmTG7ZLML4EGqLMfqHT6ON\", \"https://cdn.bokeh.org/bokeh/release/bokeh-tables-2.3.3.min.js\": \"8x57I4YuIfu8XyZfFo0XVr2WAT8EK4rh/uDe3wF7YuW2FNUSNEpJbsPaB1nJ2fz2\", \"https://cdn.bokeh.org/bokeh/release/bokeh-widgets-2.3.3.min.js\": \"3QTqdz9LyAm2i0sG5XTePsHec3UHWwVsrOL68SYRoAXsafvfAyqtQ+h440+qIBhS\"};\n",
       "\n",
       "    for (let i = 0; i < js_urls.length; i++) {\n",
       "      const url = js_urls[i];\n",
       "      const element = document.createElement('script');\n",
       "      element.onload = on_load;\n",
       "      element.onerror = on_error.bind(null, url);\n",
       "      element.async = false;\n",
       "      element.src = url;\n",
       "      if (url in hashes) {\n",
       "        element.crossOrigin = \"anonymous\";\n",
       "        element.integrity = \"sha384-\" + hashes[url];\n",
       "      }\n",
       "      console.debug(\"Bokeh: injecting script tag for BokehJS library: \", url);\n",
       "      document.head.appendChild(element);\n",
       "    }\n",
       "  };\n",
       "\n",
       "  function inject_raw_css(css) {\n",
       "    const element = document.createElement(\"style\");\n",
       "    element.appendChild(document.createTextNode(css));\n",
       "    document.body.appendChild(element);\n",
       "  }\n",
       "\n",
       "  \n",
       "  var js_urls = [\"https://cdn.bokeh.org/bokeh/release/bokeh-2.3.3.min.js\", \"https://cdn.bokeh.org/bokeh/release/bokeh-widgets-2.3.3.min.js\", \"https://cdn.bokeh.org/bokeh/release/bokeh-tables-2.3.3.min.js\", \"https://unpkg.com/@holoviz/panel@0.12.1/dist/panel.min.js\"];\n",
       "  var css_urls = [];\n",
       "  \n",
       "\n",
       "  var inline_js = [\n",
       "    function(Bokeh) {\n",
       "      Bokeh.set_log_level(\"info\");\n",
       "    },\n",
       "    function(Bokeh) {\n",
       "    \n",
       "    \n",
       "    }\n",
       "  ];\n",
       "\n",
       "  function run_inline_js() {\n",
       "    \n",
       "    if (root.Bokeh !== undefined || force === true) {\n",
       "      \n",
       "    for (var i = 0; i < inline_js.length; i++) {\n",
       "      inline_js[i].call(root, root.Bokeh);\n",
       "    }\n",
       "    if (force === true) {\n",
       "        display_loaded();\n",
       "      }} else if (Date.now() < root._bokeh_timeout) {\n",
       "      setTimeout(run_inline_js, 100);\n",
       "    } else if (!root._bokeh_failed_load) {\n",
       "      console.log(\"Bokeh: BokehJS failed to load within specified timeout.\");\n",
       "      root._bokeh_failed_load = true;\n",
       "    } else if (force !== true) {\n",
       "      var cell = $(document.getElementById(\"2545\")).parents('.cell').data().cell;\n",
       "      cell.output_area.append_execute_result(NB_LOAD_WARNING)\n",
       "    }\n",
       "\n",
       "  }\n",
       "\n",
       "  if (root._bokeh_is_loading === 0) {\n",
       "    console.debug(\"Bokeh: BokehJS loaded, going straight to plotting\");\n",
       "    run_inline_js();\n",
       "  } else {\n",
       "    load_libs(css_urls, js_urls, function() {\n",
       "      console.debug(\"Bokeh: BokehJS plotting callback run at\", now());\n",
       "      run_inline_js();\n",
       "    });\n",
       "  }\n",
       "}(window));"
      ],
      "application/vnd.bokehjs_load.v0+json": "\n(function(root) {\n  function now() {\n    return new Date();\n  }\n\n  var force = true;\n\n  if (typeof root._bokeh_onload_callbacks === \"undefined\" || force === true) {\n    root._bokeh_onload_callbacks = [];\n    root._bokeh_is_loading = undefined;\n  }\n\n  \n\n  \n  if (typeof (root._bokeh_timeout) === \"undefined\" || force === true) {\n    root._bokeh_timeout = Date.now() + 5000;\n    root._bokeh_failed_load = false;\n  }\n\n  var NB_LOAD_WARNING = {'data': {'text/html':\n     \"<div style='background-color: #fdd'>\\n\"+\n     \"<p>\\n\"+\n     \"BokehJS does not appear to have successfully loaded. If loading BokehJS from CDN, this \\n\"+\n     \"may be due to a slow or bad network connection. Possible fixes:\\n\"+\n     \"</p>\\n\"+\n     \"<ul>\\n\"+\n     \"<li>re-rerun `output_notebook()` to attempt to load from CDN again, or</li>\\n\"+\n     \"<li>use INLINE resources instead, as so:</li>\\n\"+\n     \"</ul>\\n\"+\n     \"<code>\\n\"+\n     \"from bokeh.resources import INLINE\\n\"+\n     \"output_notebook(resources=INLINE)\\n\"+\n     \"</code>\\n\"+\n     \"</div>\"}};\n\n  function display_loaded() {\n    var el = document.getElementById(\"2545\");\n    if (el != null) {\n      el.textContent = \"BokehJS is loading...\";\n    }\n    if (root.Bokeh !== undefined) {\n      if (el != null) {\n        el.textContent = \"BokehJS \" + root.Bokeh.version + \" successfully loaded.\";\n      }\n    } else if (Date.now() < root._bokeh_timeout) {\n      setTimeout(display_loaded, 100)\n    }\n  }\n\n\n  function run_callbacks() {\n    try {\n      root._bokeh_onload_callbacks.forEach(function(callback) {\n        if (callback != null)\n          callback();\n      });\n    } finally {\n      delete root._bokeh_onload_callbacks\n    }\n    console.debug(\"Bokeh: all callbacks have finished\");\n  }\n\n  function load_libs(css_urls, js_urls, callback) {\n    if (css_urls == null) css_urls = [];\n    if (js_urls == null) js_urls = [];\n\n    root._bokeh_onload_callbacks.push(callback);\n    if (root._bokeh_is_loading > 0) {\n      console.debug(\"Bokeh: BokehJS is being loaded, scheduling callback at\", now());\n      return null;\n    }\n    if (js_urls == null || js_urls.length === 0) {\n      run_callbacks();\n      return null;\n    }\n    console.debug(\"Bokeh: BokehJS not loaded, scheduling load and callback at\", now());\n    root._bokeh_is_loading = css_urls.length + js_urls.length;\n\n    function on_load() {\n      root._bokeh_is_loading--;\n      if (root._bokeh_is_loading === 0) {\n        console.debug(\"Bokeh: all BokehJS libraries/stylesheets loaded\");\n        run_callbacks()\n      }\n    }\n\n    function on_error(url) {\n      console.error(\"failed to load \" + url);\n    }\n\n    for (let i = 0; i < css_urls.length; i++) {\n      const url = css_urls[i];\n      const element = document.createElement(\"link\");\n      element.onload = on_load;\n      element.onerror = on_error.bind(null, url);\n      element.rel = \"stylesheet\";\n      element.type = \"text/css\";\n      element.href = url;\n      console.debug(\"Bokeh: injecting link tag for BokehJS stylesheet: \", url);\n      document.body.appendChild(element);\n    }\n\n    const hashes = {\"https://cdn.bokeh.org/bokeh/release/bokeh-2.3.3.min.js\": \"dM3QQsP+wXdHg42wTqW85BjZQdLNNIXqlPw/BgKoExPmTG7ZLML4EGqLMfqHT6ON\", \"https://cdn.bokeh.org/bokeh/release/bokeh-tables-2.3.3.min.js\": \"8x57I4YuIfu8XyZfFo0XVr2WAT8EK4rh/uDe3wF7YuW2FNUSNEpJbsPaB1nJ2fz2\", \"https://cdn.bokeh.org/bokeh/release/bokeh-widgets-2.3.3.min.js\": \"3QTqdz9LyAm2i0sG5XTePsHec3UHWwVsrOL68SYRoAXsafvfAyqtQ+h440+qIBhS\"};\n\n    for (let i = 0; i < js_urls.length; i++) {\n      const url = js_urls[i];\n      const element = document.createElement('script');\n      element.onload = on_load;\n      element.onerror = on_error.bind(null, url);\n      element.async = false;\n      element.src = url;\n      if (url in hashes) {\n        element.crossOrigin = \"anonymous\";\n        element.integrity = \"sha384-\" + hashes[url];\n      }\n      console.debug(\"Bokeh: injecting script tag for BokehJS library: \", url);\n      document.head.appendChild(element);\n    }\n  };\n\n  function inject_raw_css(css) {\n    const element = document.createElement(\"style\");\n    element.appendChild(document.createTextNode(css));\n    document.body.appendChild(element);\n  }\n\n  \n  var js_urls = [\"https://cdn.bokeh.org/bokeh/release/bokeh-2.3.3.min.js\", \"https://cdn.bokeh.org/bokeh/release/bokeh-widgets-2.3.3.min.js\", \"https://cdn.bokeh.org/bokeh/release/bokeh-tables-2.3.3.min.js\", \"https://unpkg.com/@holoviz/panel@0.12.1/dist/panel.min.js\"];\n  var css_urls = [];\n  \n\n  var inline_js = [\n    function(Bokeh) {\n      Bokeh.set_log_level(\"info\");\n    },\n    function(Bokeh) {\n    \n    \n    }\n  ];\n\n  function run_inline_js() {\n    \n    if (root.Bokeh !== undefined || force === true) {\n      \n    for (var i = 0; i < inline_js.length; i++) {\n      inline_js[i].call(root, root.Bokeh);\n    }\n    if (force === true) {\n        display_loaded();\n      }} else if (Date.now() < root._bokeh_timeout) {\n      setTimeout(run_inline_js, 100);\n    } else if (!root._bokeh_failed_load) {\n      console.log(\"Bokeh: BokehJS failed to load within specified timeout.\");\n      root._bokeh_failed_load = true;\n    } else if (force !== true) {\n      var cell = $(document.getElementById(\"2545\")).parents('.cell').data().cell;\n      cell.output_area.append_execute_result(NB_LOAD_WARNING)\n    }\n\n  }\n\n  if (root._bokeh_is_loading === 0) {\n    console.debug(\"Bokeh: BokehJS loaded, going straight to plotting\");\n    run_inline_js();\n  } else {\n    load_libs(css_urls, js_urls, function() {\n      console.debug(\"Bokeh: BokehJS plotting callback run at\", now());\n      run_inline_js();\n    });\n  }\n}(window));"
     },
     "metadata": {},
     "output_type": "display_data"
    }
   ],
   "source": [
    "import pandas as pd \n",
    "import numpy as np\n",
    "import os\n",
    "import scipy.stats as st\n",
    "\n",
    "import iqplot\n",
    "import bokeh.io\n",
    "import bokeh.plotting\n",
    "from bokeh.models import Legend\n",
    "import numba\n",
    "\n",
    "import bebi103\n",
    "\n",
    "bokeh.io.output_notebook()"
   ]
  },
  {
   "cell_type": "markdown",
   "id": "acd44bdb-de2e-44f7-9faf-4fb27be44ebd",
   "metadata": {},
   "source": [
    "# Aim 1: Data Validation for Microtubule Experiments #\n",
    "### Comparing Labeled and Unlabeled tubulin performance ###\n",
    "In the experiment conducted by Gardner et al., microtubules were labeled with fluorescent markers. We investigate whether or not these fluorescent markers influence tubulin performance, determined by time to catastrophe (s). We look at data gathered from unlabeled and labeled tubulin, and focus on three different comparisons: \n",
    "1. ECDF of labeled vs unlabeled tubulin\n",
    "2. Mean time to catastrophe of labeled vs unlabeled tubulin\n",
    "3. Hypothesis testing assuming identical distributions "
   ]
  },
  {
   "cell_type": "markdown",
   "id": "bef444fa-d251-4f48-b137-68547383062d",
   "metadata": {},
   "source": [
    "Each of these strategies checks whether or not the labeled or unlabeled tubulin datasets are different in some way. If a significant difference does exist, this means that the fluorescent markers have some sort of impact on microtubule performance. This would also mean that the labeled tubulin used in the subsequent experiments do not accurately depict microtubule behavior. In this way, we hope to validate the data collected by confirming that the fluorescent markers do not influence microtubule performance. <br />\n",
    "\n",
    "To start our investigation, we read in the dataset and save the values in a tidy data frame. "
   ]
  },
  {
   "cell_type": "code",
   "execution_count": 27,
   "id": "8590c8f3-ed83-48c9-99a1-d23480a8c467",
   "metadata": {},
   "outputs": [
    {
     "data": {
      "text/html": [
       "<div>\n",
       "<style scoped>\n",
       "    .dataframe tbody tr th:only-of-type {\n",
       "        vertical-align: middle;\n",
       "    }\n",
       "\n",
       "    .dataframe tbody tr th {\n",
       "        vertical-align: top;\n",
       "    }\n",
       "\n",
       "    .dataframe thead th {\n",
       "        text-align: right;\n",
       "    }\n",
       "</style>\n",
       "<table border=\"1\" class=\"dataframe\">\n",
       "  <thead>\n",
       "    <tr style=\"text-align: right;\">\n",
       "      <th></th>\n",
       "      <th>time to catastrophe (s)</th>\n",
       "      <th>labeled</th>\n",
       "    </tr>\n",
       "  </thead>\n",
       "  <tbody>\n",
       "    <tr>\n",
       "      <th>0</th>\n",
       "      <td>470.0</td>\n",
       "      <td>labeled tubulin</td>\n",
       "    </tr>\n",
       "    <tr>\n",
       "      <th>1</th>\n",
       "      <td>1415.0</td>\n",
       "      <td>labeled tubulin</td>\n",
       "    </tr>\n",
       "    <tr>\n",
       "      <th>2</th>\n",
       "      <td>130.0</td>\n",
       "      <td>labeled tubulin</td>\n",
       "    </tr>\n",
       "    <tr>\n",
       "      <th>3</th>\n",
       "      <td>280.0</td>\n",
       "      <td>labeled tubulin</td>\n",
       "    </tr>\n",
       "    <tr>\n",
       "      <th>4</th>\n",
       "      <td>550.0</td>\n",
       "      <td>labeled tubulin</td>\n",
       "    </tr>\n",
       "    <tr>\n",
       "      <th>...</th>\n",
       "      <td>...</td>\n",
       "      <td>...</td>\n",
       "    </tr>\n",
       "    <tr>\n",
       "      <th>301</th>\n",
       "      <td>180.0</td>\n",
       "      <td>unlabeled tubulin</td>\n",
       "    </tr>\n",
       "    <tr>\n",
       "      <th>302</th>\n",
       "      <td>145.0</td>\n",
       "      <td>unlabeled tubulin</td>\n",
       "    </tr>\n",
       "    <tr>\n",
       "      <th>303</th>\n",
       "      <td>745.0</td>\n",
       "      <td>unlabeled tubulin</td>\n",
       "    </tr>\n",
       "    <tr>\n",
       "      <th>304</th>\n",
       "      <td>390.0</td>\n",
       "      <td>unlabeled tubulin</td>\n",
       "    </tr>\n",
       "    <tr>\n",
       "      <th>305</th>\n",
       "      <td>1410.0</td>\n",
       "      <td>unlabeled tubulin</td>\n",
       "    </tr>\n",
       "  </tbody>\n",
       "</table>\n",
       "<p>306 rows × 2 columns</p>\n",
       "</div>"
      ],
      "text/plain": [
       "     time to catastrophe (s)            labeled\n",
       "0                      470.0    labeled tubulin\n",
       "1                     1415.0    labeled tubulin\n",
       "2                      130.0    labeled tubulin\n",
       "3                      280.0    labeled tubulin\n",
       "4                      550.0    labeled tubulin\n",
       "..                       ...                ...\n",
       "301                    180.0  unlabeled tubulin\n",
       "302                    145.0  unlabeled tubulin\n",
       "303                    745.0  unlabeled tubulin\n",
       "304                    390.0  unlabeled tubulin\n",
       "305                   1410.0  unlabeled tubulin\n",
       "\n",
       "[306 rows x 2 columns]"
      ]
     },
     "execution_count": 27,
     "metadata": {},
     "output_type": "execute_result"
    }
   ],
   "source": [
    "data_path = '../datasets'\n",
    "file_path = os.path.join(data_path, 'gardner_time_to_catastrophe_dic_tidy.csv')\n",
    "\n",
    "# get rid of the index column when loading data\n",
    "df = pd.read_csv(file_path).iloc[:, 1:]\n",
    "# replace True/False with labeled vs unlabeleed\n",
    "df['labeled'] = df['labeled'].apply(lambda x: 'labeled tubulin' if x else 'unlabeled tubulin')\n",
    "\n",
    "df"
   ]
  },
  {
   "cell_type": "markdown",
   "id": "d8d18578-5b5c-425b-91b1-f2f06459d421",
   "metadata": {},
   "source": [
    "### 1. ECDF comparison ###\n",
    "To determine whether or not microtubule performance is different between labeled and unlabeled tubulin, we first look at the cumulative distributions of the empirical data. If the cumulative distributions occupy the same areas, then the fluorescent markers probably do not have a strong effect on microtubule performance since unlabeled/labeled times to catastrophe are indistinguishable from each other. We use `iqplot` to display the respective ECDFs below and observe whether or not the unlabeled and labeled datasets are identically distributed."
   ]
  },
  {
   "cell_type": "code",
   "execution_count": 28,
   "id": "e668155c-6843-4390-89ea-cc1aa68be50f",
   "metadata": {},
   "outputs": [
    {
     "data": {
      "text/html": [
       "\n",
       "\n",
       "\n",
       "\n",
       "\n",
       "\n",
       "  <div class=\"bk-root\" id=\"3d915933-1c9a-4cce-b291-2f9106f07fa4\" data-root-id=\"2546\"></div>\n"
      ]
     },
     "metadata": {},
     "output_type": "display_data"
    },
    {
     "data": {
      "application/javascript": [
       "(function(root) {\n",
       "  function embed_document(root) {\n",
       "    \n",
       "  var docs_json = {\"74269025-9a81-4c07-a945-bf1f7bd4a8ad\":{\"defs\":[{\"extends\":null,\"module\":null,\"name\":\"ReactiveHTML1\",\"overrides\":[],\"properties\":[]},{\"extends\":null,\"module\":null,\"name\":\"FlexBox1\",\"overrides\":[],\"properties\":[{\"default\":\"flex-start\",\"kind\":null,\"name\":\"align_content\"},{\"default\":\"flex-start\",\"kind\":null,\"name\":\"align_items\"},{\"default\":\"row\",\"kind\":null,\"name\":\"flex_direction\"},{\"default\":\"wrap\",\"kind\":null,\"name\":\"flex_wrap\"},{\"default\":\"flex-start\",\"kind\":null,\"name\":\"justify_content\"}]},{\"extends\":null,\"module\":null,\"name\":\"TemplateActions1\",\"overrides\":[],\"properties\":[{\"default\":0,\"kind\":null,\"name\":\"open_modal\"},{\"default\":0,\"kind\":null,\"name\":\"close_modal\"}]},{\"extends\":null,\"module\":null,\"name\":\"MaterialTemplateActions1\",\"overrides\":[],\"properties\":[{\"default\":0,\"kind\":null,\"name\":\"open_modal\"},{\"default\":0,\"kind\":null,\"name\":\"close_modal\"}]}],\"roots\":{\"references\":[{\"attributes\":{\"below\":[{\"id\":\"2555\"}],\"center\":[{\"id\":\"2558\"},{\"id\":\"2562\"}],\"frame_height\":275,\"frame_width\":375,\"left\":[{\"id\":\"2559\"}],\"renderers\":[{\"id\":\"2580\"},{\"id\":\"2585\"},{\"id\":\"2590\"},{\"id\":\"2595\"},{\"id\":\"2600\"},{\"id\":\"2605\"},{\"id\":\"2610\"},{\"id\":\"2615\"}],\"right\":[{\"id\":\"2617\"}],\"title\":{\"id\":\"2747\"},\"toolbar\":{\"id\":\"2570\"},\"toolbar_location\":\"above\",\"x_range\":{\"id\":\"2547\"},\"x_scale\":{\"id\":\"2551\"},\"y_range\":{\"id\":\"2549\"},\"y_scale\":{\"id\":\"2553\"}},\"id\":\"2546\",\"subtype\":\"Figure\",\"type\":\"Plot\"},{\"attributes\":{\"line_alpha\":0.1,\"line_color\":\"#ff7e0e\",\"line_width\":2,\"x\":{\"field\":\"x\"},\"y\":{\"field\":\"y\"}},\"id\":\"2604\",\"type\":\"Line\"},{\"attributes\":{},\"id\":\"2556\",\"type\":\"BasicTicker\"},{\"attributes\":{\"angle\":{\"value\":3.141592653589793},\"line_color\":{\"value\":\"#ff7e0e\"},\"line_width\":{\"value\":2},\"x\":{\"value\":40.0},\"y\":{\"value\":0}},\"id\":\"2608\",\"type\":\"Ray\"},{\"attributes\":{\"source\":{\"id\":\"2587\"}},\"id\":\"2591\",\"type\":\"CDSView\"},{\"attributes\":{\"source\":{\"id\":\"2602\"}},\"id\":\"2606\",\"type\":\"CDSView\"},{\"attributes\":{\"data_source\":{\"id\":\"2607\"},\"glyph\":{\"id\":\"2608\"},\"hover_glyph\":null,\"muted_glyph\":null,\"nonselection_glyph\":{\"id\":\"2609\"},\"view\":{\"id\":\"2611\"}},\"id\":\"2610\",\"type\":\"GlyphRenderer\"},{\"attributes\":{\"data\":{},\"selected\":{\"id\":\"2763\"},\"selection_policy\":{\"id\":\"2762\"}},\"id\":\"2592\",\"type\":\"ColumnDataSource\"},{\"attributes\":{},\"id\":\"2547\",\"type\":\"DataRange1d\"},{\"attributes\":{\"angle\":{\"value\":3.141592653589793},\"line_alpha\":{\"value\":0.1},\"line_color\":{\"value\":\"#ff7e0e\"},\"line_width\":{\"value\":2},\"x\":{\"value\":40.0},\"y\":{\"value\":0}},\"id\":\"2609\",\"type\":\"Ray\"},{\"attributes\":{\"data\":{\"x\":{\"__ndarray__\":\"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\",\"dtype\":\"float64\",\"order\":\"little\",\"shape\":[380]},\"y\":{\"__ndarray__\":\"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\",\"dtype\":\"float64\",\"order\":\"little\",\"shape\":[380]}},\"selected\":{\"id\":\"2765\"},\"selection_policy\":{\"id\":\"2764\"}},\"id\":\"2597\",\"type\":\"ColumnDataSource\"},{\"attributes\":{\"data\":{},\"selected\":{\"id\":\"2769\"},\"selection_policy\":{\"id\":\"2768\"}},\"id\":\"2607\",\"type\":\"ColumnDataSource\"},{\"attributes\":{},\"id\":\"2560\",\"type\":\"BasicTicker\"},{\"attributes\":{\"line_alpha\":{\"value\":0.1},\"line_color\":{\"value\":\"#ff7e0e\"},\"line_width\":{\"value\":2},\"x\":{\"value\":1815.0},\"y\":{\"value\":1}},\"id\":\"2614\",\"type\":\"Ray\"},{\"attributes\":{\"source\":{\"id\":\"2607\"}},\"id\":\"2611\",\"type\":\"CDSView\"},{\"attributes\":{\"axis\":{\"id\":\"2555\"},\"ticker\":null},\"id\":\"2558\",\"type\":\"Grid\"},{\"attributes\":{\"data\":{},\"selected\":{\"id\":\"2771\"},\"selection_policy\":{\"id\":\"2770\"}},\"id\":\"2612\",\"type\":\"ColumnDataSource\"},{\"attributes\":{\"line_color\":{\"value\":\"#ff7e0e\"},\"line_width\":{\"value\":2},\"x\":{\"value\":1815.0},\"y\":{\"value\":1}},\"id\":\"2613\",\"type\":\"Ray\"},{\"attributes\":{\"source\":{\"id\":\"2612\"}},\"id\":\"2616\",\"type\":\"CDSView\"},{\"attributes\":{\"angle\":{\"value\":3.141592653589793},\"line_color\":{\"value\":\"#1f77b3\"},\"line_width\":{\"value\":2},\"x\":{\"value\":55.0},\"y\":{\"value\":0}},\"id\":\"2588\",\"type\":\"Ray\"},{\"attributes\":{\"data_source\":{\"id\":\"2587\"},\"glyph\":{\"id\":\"2588\"},\"hover_glyph\":null,\"muted_glyph\":null,\"nonselection_glyph\":{\"id\":\"2589\"},\"view\":{\"id\":\"2591\"}},\"id\":\"2590\",\"type\":\"GlyphRenderer\"},{\"attributes\":{\"data_source\":{\"id\":\"2612\"},\"glyph\":{\"id\":\"2613\"},\"hover_glyph\":null,\"muted_glyph\":null,\"nonselection_glyph\":{\"id\":\"2614\"},\"view\":{\"id\":\"2616\"}},\"id\":\"2615\",\"type\":\"GlyphRenderer\"},{\"attributes\":{},\"id\":\"2549\",\"type\":\"DataRange1d\"},{\"attributes\":{\"fill_alpha\":0.5,\"fill_color\":\"#1f77b3\",\"line_alpha\":0,\"line_color\":\"#1f77b4\",\"x\":{\"field\":\"x\"},\"y\":{\"field\":\"y\"}},\"id\":\"2578\",\"type\":\"Patch\"},{\"attributes\":{\"label\":{\"value\":\"unlabeled tubulin\"},\"renderers\":[{\"id\":\"2605\"},{\"id\":\"2600\"}]},\"id\":\"2619\",\"type\":\"LegendItem\"},{\"attributes\":{},\"id\":\"2553\",\"type\":\"LinearScale\"},{\"attributes\":{},\"id\":\"2750\",\"type\":\"BasicTickFormatter\"},{\"attributes\":{\"label\":{\"value\":\"labeled tubulin\"},\"renderers\":[{\"id\":\"2585\"},{\"id\":\"2580\"}]},\"id\":\"2618\",\"type\":\"LegendItem\"},{\"attributes\":{},\"id\":\"2567\",\"type\":\"ResetTool\"},{\"attributes\":{\"axis_label\":\"time to catastrophe (s)\",\"formatter\":{\"id\":\"2750\"},\"major_label_policy\":{\"id\":\"2751\"},\"ticker\":{\"id\":\"2556\"}},\"id\":\"2555\",\"type\":\"LinearAxis\"},{\"attributes\":{},\"id\":\"2551\",\"type\":\"LinearScale\"},{\"attributes\":{},\"id\":\"2564\",\"type\":\"WheelZoomTool\"},{\"attributes\":{\"data\":{\"x\":{\"__ndarray__\":\"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\",\"dtype\":\"float64\",\"order\":\"little\",\"shape\":[422]},\"y\":{\"__ndarray__\":\"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\",\"dtype\":\"float64\",\"order\":\"little\",\"shape\":[422]}},\"selected\":{\"id\":\"2759\"},\"selection_policy\":{\"id\":\"2758\"}},\"id\":\"2582\",\"type\":\"ColumnDataSource\"},{\"attributes\":{},\"id\":\"2754\",\"type\":\"AllLabels\"},{\"attributes\":{},\"id\":\"2753\",\"type\":\"BasicTickFormatter\"},{\"attributes\":{\"axis_label\":\"ECDF\",\"formatter\":{\"id\":\"2753\"},\"major_label_policy\":{\"id\":\"2754\"},\"ticker\":{\"id\":\"2560\"}},\"id\":\"2559\",\"type\":\"LinearAxis\"},{\"attributes\":{\"axis\":{\"id\":\"2559\"},\"dimension\":1,\"ticker\":null},\"id\":\"2562\",\"type\":\"Grid\"},{\"attributes\":{\"data_source\":{\"id\":\"2582\"},\"glyph\":{\"id\":\"2583\"},\"hover_glyph\":null,\"muted_glyph\":null,\"nonselection_glyph\":{\"id\":\"2584\"},\"view\":{\"id\":\"2586\"}},\"id\":\"2585\",\"type\":\"GlyphRenderer\"},{\"attributes\":{\"bottom_units\":\"screen\",\"fill_alpha\":0.5,\"fill_color\":\"lightgrey\",\"left_units\":\"screen\",\"level\":\"overlay\",\"line_alpha\":1.0,\"line_color\":\"black\",\"line_dash\":[4,4],\"line_width\":2,\"right_units\":\"screen\",\"syncable\":false,\"top_units\":\"screen\"},\"id\":\"2569\",\"type\":\"BoxAnnotation\"},{\"attributes\":{\"data\":{\"x\":{\"__ndarray__\":\"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\",\"dtype\":\"float64\",\"order\":\"little\",\"shape\":[190]},\"y\":{\"__ndarray__\":\"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\",\"dtype\":\"float64\",\"order\":\"little\",\"shape\":[190]}},\"selected\":{\"id\":\"2767\"},\"selection_policy\":{\"id\":\"2766\"}},\"id\":\"2602\",\"type\":\"ColumnDataSource\"},{\"attributes\":{\"angle\":{\"value\":3.141592653589793},\"line_alpha\":{\"value\":0.1},\"line_color\":{\"value\":\"#1f77b3\"},\"line_width\":{\"value\":2},\"x\":{\"value\":55.0},\"y\":{\"value\":0}},\"id\":\"2589\",\"type\":\"Ray\"},{\"attributes\":{\"data_source\":{\"id\":\"2597\"},\"glyph\":{\"id\":\"2598\"},\"hover_glyph\":null,\"muted_glyph\":null,\"nonselection_glyph\":{\"id\":\"2599\"},\"view\":{\"id\":\"2601\"}},\"id\":\"2600\",\"type\":\"GlyphRenderer\"},{\"attributes\":{\"data\":{\"x\":{\"__ndarray__\":\"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\",\"dtype\":\"float64\",\"order\":\"little\",\"shape\":[844]},\"y\":{\"__ndarray__\":\"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\",\"dtype\":\"float64\",\"order\":\"little\",\"shape\":[844]}},\"selected\":{\"id\":\"2757\"},\"selection_policy\":{\"id\":\"2756\"}},\"id\":\"2577\",\"type\":\"ColumnDataSource\"},{\"attributes\":{},\"id\":\"2568\",\"type\":\"HelpTool\"},{\"attributes\":{},\"id\":\"2563\",\"type\":\"PanTool\"},{\"attributes\":{\"overlay\":{\"id\":\"2569\"}},\"id\":\"2565\",\"type\":\"BoxZoomTool\"},{\"attributes\":{},\"id\":\"2566\",\"type\":\"SaveTool\"},{\"attributes\":{\"click_policy\":\"hide\",\"items\":[{\"id\":\"2618\"},{\"id\":\"2619\"}],\"location\":\"center\"},\"id\":\"2617\",\"type\":\"Legend\"},{\"attributes\":{\"line_alpha\":{\"value\":0.1},\"line_color\":{\"value\":\"#1f77b3\"},\"line_width\":{\"value\":2},\"x\":{\"value\":1730.0},\"y\":{\"value\":1}},\"id\":\"2594\",\"type\":\"Ray\"},{\"attributes\":{\"source\":{\"id\":\"2597\"}},\"id\":\"2601\",\"type\":\"CDSView\"},{\"attributes\":{},\"id\":\"2756\",\"type\":\"UnionRenderers\"},{\"attributes\":{\"source\":{\"id\":\"2577\"}},\"id\":\"2581\",\"type\":\"CDSView\"},{\"attributes\":{},\"id\":\"2757\",\"type\":\"Selection\"},{\"attributes\":{\"source\":{\"id\":\"2592\"}},\"id\":\"2596\",\"type\":\"CDSView\"},{\"attributes\":{\"data_source\":{\"id\":\"2592\"},\"glyph\":{\"id\":\"2593\"},\"hover_glyph\":null,\"muted_glyph\":null,\"nonselection_glyph\":{\"id\":\"2594\"},\"view\":{\"id\":\"2596\"}},\"id\":\"2595\",\"type\":\"GlyphRenderer\"},{\"attributes\":{\"fill_alpha\":0.1,\"fill_color\":\"#1f77b3\",\"line_alpha\":0.1,\"line_color\":\"#1f77b4\",\"x\":{\"field\":\"x\"},\"y\":{\"field\":\"y\"}},\"id\":\"2579\",\"type\":\"Patch\"},{\"attributes\":{\"fill_alpha\":0.5,\"fill_color\":\"#ff7e0e\",\"line_alpha\":0,\"line_color\":\"#1f77b4\",\"x\":{\"field\":\"x\"},\"y\":{\"field\":\"y\"}},\"id\":\"2598\",\"type\":\"Patch\"},{\"attributes\":{},\"id\":\"2751\",\"type\":\"AllLabels\"},{\"attributes\":{\"line_color\":\"#1f77b3\",\"line_width\":2,\"x\":{\"field\":\"x\"},\"y\":{\"field\":\"y\"}},\"id\":\"2583\",\"type\":\"Line\"},{\"attributes\":{\"data\":{},\"selected\":{\"id\":\"2761\"},\"selection_policy\":{\"id\":\"2760\"}},\"id\":\"2587\",\"type\":\"ColumnDataSource\"},{\"attributes\":{\"data_source\":{\"id\":\"2577\"},\"glyph\":{\"id\":\"2578\"},\"hover_glyph\":null,\"muted_glyph\":null,\"nonselection_glyph\":{\"id\":\"2579\"},\"view\":{\"id\":\"2581\"}},\"id\":\"2580\",\"type\":\"GlyphRenderer\"},{\"attributes\":{\"line_color\":\"#ff7e0e\",\"line_width\":2,\"x\":{\"field\":\"x\"},\"y\":{\"field\":\"y\"}},\"id\":\"2603\",\"type\":\"Line\"},{\"attributes\":{},\"id\":\"2758\",\"type\":\"UnionRenderers\"},{\"attributes\":{\"fill_alpha\":0.1,\"fill_color\":\"#ff7e0e\",\"line_alpha\":0.1,\"line_color\":\"#1f77b4\",\"x\":{\"field\":\"x\"},\"y\":{\"field\":\"y\"}},\"id\":\"2599\",\"type\":\"Patch\"},{\"attributes\":{\"source\":{\"id\":\"2582\"}},\"id\":\"2586\",\"type\":\"CDSView\"},{\"attributes\":{},\"id\":\"2759\",\"type\":\"Selection\"},{\"attributes\":{\"line_color\":{\"value\":\"#1f77b3\"},\"line_width\":{\"value\":2},\"x\":{\"value\":1730.0},\"y\":{\"value\":1}},\"id\":\"2593\",\"type\":\"Ray\"},{\"attributes\":{\"line_alpha\":0.1,\"line_color\":\"#1f77b3\",\"line_width\":2,\"x\":{\"field\":\"x\"},\"y\":{\"field\":\"y\"}},\"id\":\"2584\",\"type\":\"Line\"},{\"attributes\":{},\"id\":\"2760\",\"type\":\"UnionRenderers\"},{\"attributes\":{},\"id\":\"2761\",\"type\":\"Selection\"},{\"attributes\":{},\"id\":\"2762\",\"type\":\"UnionRenderers\"},{\"attributes\":{},\"id\":\"2763\",\"type\":\"Selection\"},{\"attributes\":{},\"id\":\"2764\",\"type\":\"UnionRenderers\"},{\"attributes\":{},\"id\":\"2765\",\"type\":\"Selection\"},{\"attributes\":{},\"id\":\"2768\",\"type\":\"UnionRenderers\"},{\"attributes\":{},\"id\":\"2766\",\"type\":\"UnionRenderers\"},{\"attributes\":{},\"id\":\"2769\",\"type\":\"Selection\"},{\"attributes\":{},\"id\":\"2767\",\"type\":\"Selection\"},{\"attributes\":{\"active_multi\":null,\"tools\":[{\"id\":\"2563\"},{\"id\":\"2564\"},{\"id\":\"2565\"},{\"id\":\"2566\"},{\"id\":\"2567\"},{\"id\":\"2568\"}]},\"id\":\"2570\",\"type\":\"Toolbar\"},{\"attributes\":{},\"id\":\"2747\",\"type\":\"Title\"},{\"attributes\":{},\"id\":\"2770\",\"type\":\"UnionRenderers\"},{\"attributes\":{},\"id\":\"2771\",\"type\":\"Selection\"},{\"attributes\":{\"data_source\":{\"id\":\"2602\"},\"glyph\":{\"id\":\"2603\"},\"hover_glyph\":null,\"muted_glyph\":null,\"nonselection_glyph\":{\"id\":\"2604\"},\"view\":{\"id\":\"2606\"}},\"id\":\"2605\",\"type\":\"GlyphRenderer\"}],\"root_ids\":[\"2546\"]},\"title\":\"Bokeh Application\",\"version\":\"2.3.3\"}};\n",
       "  var render_items = [{\"docid\":\"74269025-9a81-4c07-a945-bf1f7bd4a8ad\",\"root_ids\":[\"2546\"],\"roots\":{\"2546\":\"3d915933-1c9a-4cce-b291-2f9106f07fa4\"}}];\n",
       "  root.Bokeh.embed.embed_items_notebook(docs_json, render_items);\n",
       "\n",
       "  }\n",
       "  if (root.Bokeh !== undefined) {\n",
       "    embed_document(root);\n",
       "  } else {\n",
       "    var attempts = 0;\n",
       "    var timer = setInterval(function(root) {\n",
       "      if (root.Bokeh !== undefined) {\n",
       "        clearInterval(timer);\n",
       "        embed_document(root);\n",
       "      } else {\n",
       "        attempts++;\n",
       "        if (attempts > 100) {\n",
       "          clearInterval(timer);\n",
       "          console.log(\"Bokeh: ERROR: Unable to run BokehJS code because BokehJS library is missing\");\n",
       "        }\n",
       "      }\n",
       "    }, 10, root)\n",
       "  }\n",
       "})(window);"
      ],
      "application/vnd.bokehjs_exec.v0+json": ""
     },
     "metadata": {
      "application/vnd.bokehjs_exec.v0+json": {
       "id": "2546"
      }
     },
     "output_type": "display_data"
    }
   ],
   "source": [
    "p = iqplot.ecdf(\n",
    "    data=df,\n",
    "    q='time to catastrophe (s)', \n",
    "    cats='labeled',\n",
    "    style='staircase',\n",
    "    conf_int = True\n",
    ")\n",
    "\n",
    "bokeh.io.show(p)"
   ]
  },
  {
   "cell_type": "markdown",
   "id": "fa78bd17-5bfb-4699-9c76-6da8c2467d5b",
   "metadata": {},
   "source": [
    "By a quick, visual inspection of the plot, it looks like the catastrophe times for microtubules with labeled and unlabeled tubulin could be identically distributed. The confidence interval for the unlabeled tubulin almost always overlaps with the labeled tubulin confidence intervals. <br /> <br />\n",
    "Since we are using the confidence intervals to check whether or not the datasets overlap, further investigation of confidence interval generation is worth exploring. The confidence intervals above were calculated with bootstrapping, but we can also use Dvoretzky-Kiefer-Wolfowitz Inequality (DKW) to compute confidence intervals for the ECDF. To start, we define an ecdf function that can compute the ecdf at an arbitrary x value. "
   ]
  },
  {
   "cell_type": "code",
   "execution_count": 29,
   "id": "ab24a5d3-b5c4-4bc8-a983-551dba0bf4c8",
   "metadata": {},
   "outputs": [],
   "source": [
    "def ecdf(x, data):\n",
    "    \"\"\"\n",
    "    This function computes the value of the ECDF built from a 1D array, data, \n",
    "    at arbitrary points, x, which can also be an array.\n",
    "    \n",
    "    x can be an integer or float, an array of ints, or a list of ints\n",
    "    \"\"\"\n",
    "    data_sorted = np.sort(data)\n",
    "    \n",
    "    ecdf_li = []\n",
    "    \n",
    "    if type(x) == int or type(x) == float:\n",
    "        index_tup = np.where(data_sorted <= x)[0]\n",
    "        if index_tup.size == 0:\n",
    "            ecdf = 0\n",
    "        else:\n",
    "            ecdf = (index_tup[-1] + 1) / len(data)\n",
    "        ecdf_li.append(ecdf)\n",
    "    else:\n",
    "        for value in x:\n",
    "            index_tup = np.where(data_sorted <= value)[0]\n",
    "            if index_tup.size == 0:\n",
    "                ecdf = 0\n",
    "            else:\n",
    "                ecdf = (index_tup[-1] + 1) / len(data)\n",
    "            ecdf_li.append(ecdf)\n",
    "    \n",
    "    return np.array(ecdf_li)"
   ]
  },
  {
   "cell_type": "markdown",
   "id": "75a0b3bb-3006-4a99-899d-0c23892ef864",
   "metadata": {},
   "source": [
    "The DKW inequality states that for any $\\epsilon > 0$,\n",
    "\n",
    "\\begin{align}\n",
    "P\\left(\\mathrm{sup}_x \\left|F(x) - \\hat{F}(x)\\right| > \\epsilon\\right) \\le 2\\mathrm{e}^{-2 n \\epsilon^2},\n",
    "\\end{align}\n",
    "\n",
    "To calculate the DKW inequality for the microtubule catastrophe data then, we first calculate $\\alpha$ which while be used to calculate $\\epsilon$. For the 95% confidence interval: <br />\n",
    "\\begin{align}\n",
    "100*(1-\\alpha) & = 95 \\\\\n",
    "1-\\alpha & = 0.95 \\\\\n",
    "0.05 &= \\alpha \\\\\n",
    "\\end{align} <br /> "
   ]
  },
  {
   "cell_type": "markdown",
   "id": "dfbe9dd0-5283-460f-90da-6585fc917c8d",
   "metadata": {},
   "source": [
    "Now we create a function to get $\\epsilon$ for a given dataset (since $n$ might vary), which I will later use to calculate the upper and lower bounds. I use the calculated $\\alpha$ value and the expression:  <br />\n",
    "\\begin{align}\n",
    "\\epsilon &= \\sqrt{\\frac{1}{2n} \\log{\\frac{2}{\\alpha}}} \\\\\n",
    "\\end{align} "
   ]
  },
  {
   "cell_type": "code",
   "execution_count": 30,
   "id": "f6ec10cd-a5e4-4fa6-a36d-f3f121ce54b3",
   "metadata": {},
   "outputs": [],
   "source": [
    "alpha = 0.05\n",
    "\n",
    "def calc_epsilon(data):\n",
    "    n = len(data)\n",
    "    x = 1/(2*n)\n",
    "    l = np.log(2/alpha)\n",
    "    return np.sqrt(x*l)"
   ]
  },
  {
   "cell_type": "markdown",
   "id": "4d3b676b-5772-40f2-a9dd-7fcb0fc1df81",
   "metadata": {},
   "source": [
    "Next we create a function that returns the lower bound, given by the expression: <br />\n",
    "\\begin{align}\n",
    "L(x) = \\max\\left(0, \\hat{F}(x) - \\epsilon\\right),\n",
    "\\end{align}"
   ]
  },
  {
   "cell_type": "code",
   "execution_count": 31,
   "id": "313d821a-f37a-44a8-b8b9-ccb25e65caa7",
   "metadata": {},
   "outputs": [],
   "source": [
    "def lower_bound(data):\n",
    "    \"\"\"\n",
    "    for a given array of experimental data, \n",
    "    this function returns a list of the DKW lower bound values \n",
    "    corresponding to the given data points\n",
    "    \"\"\"\n",
    "    ep = calc_epsilon(data) \n",
    "    l_bounds = []\n",
    "    for x in data: \n",
    "        lower = np.maximum(0, x-ep)\n",
    "        l_bounds.append(lower)\n",
    "    return l_bounds      "
   ]
  },
  {
   "cell_type": "markdown",
   "id": "12e24efa-533c-450c-a010-bf4a54ff8137",
   "metadata": {},
   "source": [
    "Now we create a function that returns the upper bound, given by the expression: <br />\n",
    "\\begin{align}\n",
    "U(x) = \\min\\left(1, \\hat{F}(x) + \\epsilon\\right).\n",
    "\\end{align}"
   ]
  },
  {
   "cell_type": "code",
   "execution_count": 32,
   "id": "78c01258-fafb-4726-8f77-7282abc66ba4",
   "metadata": {},
   "outputs": [],
   "source": [
    "def upper_bound(data):\n",
    "    \"\"\"\n",
    "    for a given array of experimental data, \n",
    "    this function returns a list of the DKW upper bound values \n",
    "    corresponding to the given data points\n",
    "    \"\"\"\n",
    "    ep = calc_epsilon(data) \n",
    "    u_bounds = []\n",
    "    for x in data: \n",
    "        upper = np.minimum(1, x+ep)\n",
    "        u_bounds.append(upper)\n",
    "    return u_bounds   "
   ]
  },
  {
   "cell_type": "markdown",
   "id": "bc63ee2e-e3ca-49d7-9284-1b1fc9f7174f",
   "metadata": {},
   "source": [
    "Now I want to plot the confidence intervals for the ECDFs of the labeled and unlabeled tubulin times to catastrophe. I use the previously made `unlabeled_tubulin` and `labeled tubulin` arrays, along with the `ecdf` method made in part e to obtain the ecdf values of the two arrays. I use the `lower_bound` and `upper_bound` methods just created to also store the lower and upper bounds for each dataset. <br /><br />\n",
    "For the **unlabeled** tubulin dataset I create a dataframe that holds all the values needed for plotting. I sort the dataset by the value so I can plot in order."
   ]
  },
  {
   "cell_type": "code",
   "execution_count": 33,
   "id": "ddfa06f6-22df-4f98-8085-c21e36ef2d72",
   "metadata": {},
   "outputs": [
    {
     "data": {
      "text/html": [
       "<div>\n",
       "<style scoped>\n",
       "    .dataframe tbody tr th:only-of-type {\n",
       "        vertical-align: middle;\n",
       "    }\n",
       "\n",
       "    .dataframe tbody tr th {\n",
       "        vertical-align: top;\n",
       "    }\n",
       "\n",
       "    .dataframe thead th {\n",
       "        text-align: right;\n",
       "    }\n",
       "</style>\n",
       "<table border=\"1\" class=\"dataframe\">\n",
       "  <thead>\n",
       "    <tr style=\"text-align: right;\">\n",
       "      <th></th>\n",
       "      <th>value</th>\n",
       "      <th>ecdf</th>\n",
       "      <th>lower_bound</th>\n",
       "      <th>upper_bound</th>\n",
       "    </tr>\n",
       "  </thead>\n",
       "  <tbody>\n",
       "    <tr>\n",
       "      <th>29</th>\n",
       "      <td>40.0</td>\n",
       "      <td>0.010526</td>\n",
       "      <td>0.0</td>\n",
       "      <td>0.149865</td>\n",
       "    </tr>\n",
       "    <tr>\n",
       "      <th>47</th>\n",
       "      <td>60.0</td>\n",
       "      <td>0.021053</td>\n",
       "      <td>0.0</td>\n",
       "      <td>0.160391</td>\n",
       "    </tr>\n",
       "    <tr>\n",
       "      <th>28</th>\n",
       "      <td>75.0</td>\n",
       "      <td>0.031579</td>\n",
       "      <td>0.0</td>\n",
       "      <td>0.170917</td>\n",
       "    </tr>\n",
       "    <tr>\n",
       "      <th>85</th>\n",
       "      <td>80.0</td>\n",
       "      <td>0.042105</td>\n",
       "      <td>0.0</td>\n",
       "      <td>0.181444</td>\n",
       "    </tr>\n",
       "    <tr>\n",
       "      <th>61</th>\n",
       "      <td>85.0</td>\n",
       "      <td>0.063158</td>\n",
       "      <td>0.0</td>\n",
       "      <td>0.202496</td>\n",
       "    </tr>\n",
       "  </tbody>\n",
       "</table>\n",
       "</div>"
      ],
      "text/plain": [
       "    value      ecdf  lower_bound  upper_bound\n",
       "29   40.0  0.010526          0.0     0.149865\n",
       "47   60.0  0.021053          0.0     0.160391\n",
       "28   75.0  0.031579          0.0     0.170917\n",
       "85   80.0  0.042105          0.0     0.181444\n",
       "61   85.0  0.063158          0.0     0.202496"
      ]
     },
     "execution_count": 33,
     "metadata": {},
     "output_type": "execute_result"
    }
   ],
   "source": [
    "values_u = []\n",
    "ecdf_u = []\n",
    "for x in unlabeled_tubulin:\n",
    "    values_u.append(x)\n",
    "    a = ecdf([x], unlabeled_tubulin)\n",
    "    ecdf_u.append(a[0])\n",
    "df_unlabeled = pd.DataFrame(data = {\"value\":values_u,\n",
    "                                    \"ecdf\":ecdf_u, \n",
    "                                   }\n",
    "                           )\n",
    "df_unlabeled = df_unlabeled.sort_values(by = [\"value\"])\n",
    "e = df_unlabeled.loc[:, \"ecdf\"]\n",
    "lower_u = lower_bound(e)\n",
    "upper_u = upper_bound(e)\n",
    "\n",
    "df_unlabeled[\"lower_bound\"] = lower_u\n",
    "df_unlabeled[\"upper_bound\"] = upper_u\n",
    "\n",
    "df_unlabeled.head()"
   ]
  },
  {
   "cell_type": "markdown",
   "id": "55ade397-7000-4539-8f3b-73ab7e1f3c1a",
   "metadata": {},
   "source": [
    "Now for the **labeled** tubulin dataset I repeat this procedure of creating a dataframe and then plotting. "
   ]
  },
  {
   "cell_type": "code",
   "execution_count": 34,
   "id": "7d8ebb8a-ce74-4f22-bd45-d14eebe1a824",
   "metadata": {},
   "outputs": [
    {
     "data": {
      "text/html": [
       "<div>\n",
       "<style scoped>\n",
       "    .dataframe tbody tr th:only-of-type {\n",
       "        vertical-align: middle;\n",
       "    }\n",
       "\n",
       "    .dataframe tbody tr th {\n",
       "        vertical-align: top;\n",
       "    }\n",
       "\n",
       "    .dataframe thead th {\n",
       "        text-align: right;\n",
       "    }\n",
       "</style>\n",
       "<table border=\"1\" class=\"dataframe\">\n",
       "  <thead>\n",
       "    <tr style=\"text-align: right;\">\n",
       "      <th></th>\n",
       "      <th>value</th>\n",
       "      <th>ecdf</th>\n",
       "      <th>lower_bound</th>\n",
       "      <th>upper_bound</th>\n",
       "    </tr>\n",
       "  </thead>\n",
       "  <tbody>\n",
       "    <tr>\n",
       "      <th>10</th>\n",
       "      <td>55.0</td>\n",
       "      <td>0.004739</td>\n",
       "      <td>0.0</td>\n",
       "      <td>0.098235</td>\n",
       "    </tr>\n",
       "    <tr>\n",
       "      <th>15</th>\n",
       "      <td>60.0</td>\n",
       "      <td>0.009479</td>\n",
       "      <td>0.0</td>\n",
       "      <td>0.102974</td>\n",
       "    </tr>\n",
       "    <tr>\n",
       "      <th>34</th>\n",
       "      <td>65.0</td>\n",
       "      <td>0.018957</td>\n",
       "      <td>0.0</td>\n",
       "      <td>0.112453</td>\n",
       "    </tr>\n",
       "    <tr>\n",
       "      <th>5</th>\n",
       "      <td>65.0</td>\n",
       "      <td>0.018957</td>\n",
       "      <td>0.0</td>\n",
       "      <td>0.112453</td>\n",
       "    </tr>\n",
       "    <tr>\n",
       "      <th>41</th>\n",
       "      <td>75.0</td>\n",
       "      <td>0.023697</td>\n",
       "      <td>0.0</td>\n",
       "      <td>0.117192</td>\n",
       "    </tr>\n",
       "  </tbody>\n",
       "</table>\n",
       "</div>"
      ],
      "text/plain": [
       "    value      ecdf  lower_bound  upper_bound\n",
       "10   55.0  0.004739          0.0     0.098235\n",
       "15   60.0  0.009479          0.0     0.102974\n",
       "34   65.0  0.018957          0.0     0.112453\n",
       "5    65.0  0.018957          0.0     0.112453\n",
       "41   75.0  0.023697          0.0     0.117192"
      ]
     },
     "execution_count": 34,
     "metadata": {},
     "output_type": "execute_result"
    }
   ],
   "source": [
    "values_l = []\n",
    "ecdf_l = []\n",
    "for x in labeled_tubulin:\n",
    "    values_l.append(x)\n",
    "    a = ecdf([x], labeled_tubulin)\n",
    "    ecdf_l.append(a[0])\n",
    "df_labeled = pd.DataFrame(data = {\"value\":values_l,\n",
    "                                  \"ecdf\":ecdf_l, \n",
    "                                 }\n",
    "                         )\n",
    "df_labeled = df_labeled.sort_values(by = [\"value\"])\n",
    "e_l = df_labeled.loc[:, \"ecdf\"]\n",
    "lower_l = lower_bound(e_l)\n",
    "upper_l = upper_bound(e_l)\n",
    "\n",
    "df_labeled[\"lower_bound\"] = lower_l\n",
    "df_labeled[\"upper_bound\"] = upper_l\n",
    "\n",
    "df_labeled.head()"
   ]
  },
  {
   "cell_type": "markdown",
   "id": "4e43faa1-f63f-4637-994b-b4faac9aebec",
   "metadata": {},
   "source": [
    "Finally, I create the final plot which overlays the two ecdf's with their respective confidence intervals, calculated with the DKW lower/upper bound expressions. "
   ]
  },
  {
   "cell_type": "code",
   "execution_count": 35,
   "id": "42641444-0914-4124-bac6-d042feda586d",
   "metadata": {},
   "outputs": [
    {
     "data": {
      "text/html": [
       "\n",
       "\n",
       "\n",
       "\n",
       "\n",
       "\n",
       "  <div class=\"bk-root\" id=\"6a9f8c50-6e95-4666-b2bb-325e148a3637\" data-root-id=\"2897\"></div>\n"
      ]
     },
     "metadata": {},
     "output_type": "display_data"
    },
    {
     "data": {
      "application/javascript": [
       "(function(root) {\n",
       "  function embed_document(root) {\n",
       "    \n",
       "  var docs_json = {\"2fb8165e-dd3c-4bb7-a53b-9af554d049fd\":{\"defs\":[{\"extends\":null,\"module\":null,\"name\":\"ReactiveHTML1\",\"overrides\":[],\"properties\":[]},{\"extends\":null,\"module\":null,\"name\":\"FlexBox1\",\"overrides\":[],\"properties\":[{\"default\":\"flex-start\",\"kind\":null,\"name\":\"align_content\"},{\"default\":\"flex-start\",\"kind\":null,\"name\":\"align_items\"},{\"default\":\"row\",\"kind\":null,\"name\":\"flex_direction\"},{\"default\":\"wrap\",\"kind\":null,\"name\":\"flex_wrap\"},{\"default\":\"flex-start\",\"kind\":null,\"name\":\"justify_content\"}]},{\"extends\":null,\"module\":null,\"name\":\"TemplateActions1\",\"overrides\":[],\"properties\":[{\"default\":0,\"kind\":null,\"name\":\"open_modal\"},{\"default\":0,\"kind\":null,\"name\":\"close_modal\"}]},{\"extends\":null,\"module\":null,\"name\":\"MaterialTemplateActions1\",\"overrides\":[],\"properties\":[{\"default\":0,\"kind\":null,\"name\":\"open_modal\"},{\"default\":0,\"kind\":null,\"name\":\"close_modal\"}]}],\"roots\":{\"references\":[{\"attributes\":{\"below\":[{\"id\":\"2908\"}],\"center\":[{\"id\":\"2911\"},{\"id\":\"2915\"}],\"height\":400,\"left\":[{\"id\":\"2912\"}],\"renderers\":[{\"id\":\"2934\"},{\"id\":\"2940\"},{\"id\":\"2946\"},{\"id\":\"2952\"},{\"id\":\"2958\"},{\"id\":\"2964\"}],\"right\":[{\"id\":\"2966\"}],\"title\":{\"id\":\"2898\"},\"toolbar\":{\"id\":\"2923\"},\"width\":800,\"x_range\":{\"id\":\"2900\"},\"x_scale\":{\"id\":\"2904\"},\"y_range\":{\"id\":\"2902\"},\"y_scale\":{\"id\":\"2906\"}},\"id\":\"2897\",\"subtype\":\"Figure\",\"type\":\"Plot\"},{\"attributes\":{\"source\":{\"id\":\"2930\"}},\"id\":\"2935\",\"type\":\"CDSView\"},{\"attributes\":{\"fill_alpha\":{\"value\":0.1},\"fill_color\":{\"value\":\"#5e3c99\"},\"line_alpha\":{\"value\":0.1},\"line_color\":{\"value\":\"#5e3c99\"},\"x\":{\"field\":\"value\"},\"y\":{\"field\":\"upper_bound\"}},\"id\":\"2945\",\"type\":\"Circle\"},{\"attributes\":{\"line_alpha\":0.7,\"line_color\":\"#fdb863\",\"line_width\":3,\"x\":{\"field\":\"value\"},\"y\":{\"field\":\"ecdf\"}},\"id\":\"2950\",\"type\":\"Line\"},{\"attributes\":{\"bottom_units\":\"screen\",\"fill_alpha\":0.5,\"fill_color\":\"lightgrey\",\"left_units\":\"screen\",\"level\":\"overlay\",\"line_alpha\":1.0,\"line_color\":\"black\",\"line_dash\":[4,4],\"line_width\":2,\"right_units\":\"screen\",\"syncable\":false,\"top_units\":\"screen\"},\"id\":\"2922\",\"type\":\"BoxAnnotation\"},{\"attributes\":{},\"id\":\"3143\",\"type\":\"UnionRenderers\"},{\"attributes\":{\"text\":\"unlabeled vs. labeled tubulin\"},\"id\":\"2898\",\"type\":\"Title\"},{\"attributes\":{\"label\":{\"value\":\"labeled upper bound\"},\"renderers\":[{\"id\":\"2964\"}]},\"id\":\"2972\",\"type\":\"LegendItem\"},{\"attributes\":{\"data_source\":{\"id\":\"2930\"},\"glyph\":{\"id\":\"2932\"},\"hover_glyph\":null,\"muted_glyph\":null,\"nonselection_glyph\":{\"id\":\"2933\"},\"view\":{\"id\":\"2935\"}},\"id\":\"2934\",\"type\":\"GlyphRenderer\"},{\"attributes\":{},\"id\":\"2900\",\"type\":\"DataRange1d\"},{\"attributes\":{},\"id\":\"3144\",\"type\":\"Selection\"},{\"attributes\":{},\"id\":\"3137\",\"type\":\"UnionRenderers\"},{\"attributes\":{},\"id\":\"2902\",\"type\":\"DataRange1d\"},{\"attributes\":{\"label\":{\"value\":\"unlabeled upper bound\"},\"renderers\":[{\"id\":\"2946\"}]},\"id\":\"2969\",\"type\":\"LegendItem\"},{\"attributes\":{\"label\":{\"value\":\"labeled ecdf\"},\"renderers\":[{\"id\":\"2952\"}]},\"id\":\"2970\",\"type\":\"LegendItem\"},{\"attributes\":{},\"id\":\"2906\",\"type\":\"LinearScale\"},{\"attributes\":{},\"id\":\"3138\",\"type\":\"Selection\"},{\"attributes\":{},\"id\":\"2904\",\"type\":\"LinearScale\"},{\"attributes\":{},\"id\":\"3139\",\"type\":\"UnionRenderers\"},{\"attributes\":{\"axis_label\":\"time to catastrophe\",\"formatter\":{\"id\":\"3127\"},\"major_label_policy\":{\"id\":\"3128\"},\"ticker\":{\"id\":\"2909\"}},\"id\":\"2908\",\"type\":\"LinearAxis\"},{\"attributes\":{},\"id\":\"2909\",\"type\":\"BasicTicker\"},{\"attributes\":{\"axis\":{\"id\":\"2908\"},\"ticker\":null},\"id\":\"2911\",\"type\":\"Grid\"},{\"attributes\":{},\"id\":\"3142\",\"type\":\"Selection\"},{\"attributes\":{},\"id\":\"2917\",\"type\":\"WheelZoomTool\"},{\"attributes\":{},\"id\":\"3133\",\"type\":\"UnionRenderers\"},{\"attributes\":{\"axis_label\":\"ecdf\",\"formatter\":{\"id\":\"3130\"},\"major_label_policy\":{\"id\":\"3131\"},\"ticker\":{\"id\":\"2913\"}},\"id\":\"2912\",\"type\":\"LinearAxis\"},{\"attributes\":{},\"id\":\"3140\",\"type\":\"Selection\"},{\"attributes\":{\"axis\":{\"id\":\"2912\"},\"dimension\":1,\"ticker\":null},\"id\":\"2915\",\"type\":\"Grid\"},{\"attributes\":{\"source\":{\"id\":\"2948\"}},\"id\":\"2953\",\"type\":\"CDSView\"},{\"attributes\":{\"click_policy\":\"hide\",\"items\":[{\"id\":\"2967\"},{\"id\":\"2968\"},{\"id\":\"2969\"},{\"id\":\"2970\"},{\"id\":\"2971\"},{\"id\":\"2972\"}],\"location\":\"center\"},\"id\":\"2966\",\"type\":\"Legend\"},{\"attributes\":{\"active_multi\":null,\"tools\":[{\"id\":\"2916\"},{\"id\":\"2917\"},{\"id\":\"2918\"},{\"id\":\"2919\"},{\"id\":\"2920\"},{\"id\":\"2921\"}]},\"id\":\"2923\",\"type\":\"Toolbar\"},{\"attributes\":{},\"id\":\"3134\",\"type\":\"Selection\"},{\"attributes\":{\"data_source\":{\"id\":\"2954\"},\"glyph\":{\"id\":\"2956\"},\"hover_glyph\":null,\"muted_glyph\":null,\"nonselection_glyph\":{\"id\":\"2957\"},\"view\":{\"id\":\"2959\"}},\"id\":\"2958\",\"type\":\"GlyphRenderer\"},{\"attributes\":{},\"id\":\"2913\",\"type\":\"BasicTicker\"},{\"attributes\":{},\"id\":\"2921\",\"type\":\"HelpTool\"},{\"attributes\":{\"fill_alpha\":{\"value\":0.3},\"fill_color\":{\"value\":\"#e66101\"},\"line_alpha\":{\"value\":0.3},\"line_color\":{\"value\":\"#e66101\"},\"x\":{\"field\":\"value\"},\"y\":{\"field\":\"upper_bound\"}},\"id\":\"2962\",\"type\":\"Circle\"},{\"attributes\":{},\"id\":\"2916\",\"type\":\"PanTool\"},{\"attributes\":{\"source\":{\"id\":\"2954\"}},\"id\":\"2959\",\"type\":\"CDSView\"},{\"attributes\":{\"overlay\":{\"id\":\"2922\"}},\"id\":\"2918\",\"type\":\"BoxZoomTool\"},{\"attributes\":{},\"id\":\"2919\",\"type\":\"SaveTool\"},{\"attributes\":{\"line_alpha\":0.7,\"line_color\":\"#b2abd2\",\"line_width\":3,\"x\":{\"field\":\"value\"},\"y\":{\"field\":\"ecdf\"}},\"id\":\"2932\",\"type\":\"Line\"},{\"attributes\":{},\"id\":\"2920\",\"type\":\"ResetTool\"},{\"attributes\":{\"fill_alpha\":{\"value\":0.5},\"fill_color\":{\"value\":\"#5e3c99\"},\"line_alpha\":{\"value\":0.5},\"line_color\":{\"value\":\"#5e3c99\"},\"x\":{\"field\":\"value\"},\"y\":{\"field\":\"lower_bound\"}},\"id\":\"2938\",\"type\":\"Circle\"},{\"attributes\":{\"data_source\":{\"id\":\"2960\"},\"glyph\":{\"id\":\"2962\"},\"hover_glyph\":null,\"muted_glyph\":null,\"nonselection_glyph\":{\"id\":\"2963\"},\"view\":{\"id\":\"2965\"}},\"id\":\"2964\",\"type\":\"GlyphRenderer\"},{\"attributes\":{\"data\":{\"ecdf\":{\"__ndarray__\":\"7ViBMNKOhT/tWIEw0o6VP7ICYaQdK6A/7ViBMNKOpT+yAmGkHSuwP7ICYaQdK7A/7ViBMNKOtT/tWIEw0o61PyivobyG8ro/KK+hvIbyuj9G2rECYaS9P7ICYaQdK8A/XkN5DeU1xD9eQ3kN5TXEP15DeQ3lNcQ/7ViBMNKOxT8LhJF2rEDIPwuEkXasQMg/KK+hvIbyyj8or6G8hvLKP7fEqd9zS8w/RtqxAmGkzT9BGGnHCoTRP0EYaccKhNE/QRhpxwqE0T9BGGnHCoTRPwgj7ViBMNI/zy1x6vfc0j+XOPV7bonTP15DeQ3lNdQ/tWMFwkg71j+1YwXCSDvWP7VjBcJIO9Y/fG6JU7/n1j9DeQ3lNZTXP9KOFQgj7dg/0o4VCCPt2D+amZmZmZnZP2GkHSsQRto/8LklTv2e2z/wuSVO/Z7bP7fEqd9zS9w/f88tcer33D9G2rECYaTdPw3lNZTXUN4/nPo9t8Sp3z+c+j23xKnfP7ICYaQdK+A/eQ3lNZTX4D95DeU1lNfgP90Sp37PLeE/QRhpxwqE4T+kHSsQRtrhPwgj7ViBMOI/zy1x6vfc4j/PLXHq99ziPzMzMzMzM+M/lzj1e26J4z9eQ3kN5TXkP15DeQ3lNeQ/wkg7ViCM5D+JU7/nljjlP4lTv+eWOOU/tWMFwkg75j+1YwXCSDvmP7VjBcJIO+Y/GGnHCoSR5j98bolTv+fmP+BzS5z6Pec/Q3kN5TWU5z+nfs8tcernP26JU7/nlug/bolTv+eW6D82lNdQXkPpPzaU11BeQ+k/mpmZmZmZ6T/9nlvi1O/pP2GkHSsQRuo/xanfc0uc6j8or6G8hvLqP4y0YwXCSOs/8LklTv2e6z9Uv+eWOPXrP7fEqd9zS+w/G8prKK+h7D9/zy1x6vfsP+LU77klTu0/RtqxAmGk7T+q33NLnPrtPw3lNZTXUO4/cer33BKn7j/V77klTv3uPzn1e26JU+8/nPo9t8Sp7z8AAAAAAADwPw==\",\"dtype\":\"float64\",\"order\":\"little\",\"shape\":[95]},\"index\":[29,47,28,85,61,63,50,78,59,9,45,11,91,21,71,26,43,80,5,65,74,66,18,90,36,19,8,83,14,82,62,86,42,30,56,25,3,35,12,70,33,17,32,64,72,0,37,15,75,6,38,93,39,54,55,34,40,69,49,23,1,13,57,7,10,24,60,58,87,53,51,44,76,89,2,16,48,20,73,84,41,68,67,81,92,52,31,27,22,77,46,88,79,94,4],\"lower_bound\":{\"__ndarray__\":\"AAAAAAAAAAAAAAAAAAAAAAAAAAAAAAAAAAAAAAAAAAAAAAAAAAAAAAAAAAAAAAAAAAAAAAAAAAAAAAAAAAAAAAAAAAAAAAAAAAAAAAAAAAAAAAAAAAAAAAAAAAAAAAAAkC07CncAkz+QLTsKdwCTP5AtOwp3AJM/CNp7IuDHnT98mX4pWaupP3yZfilZq6k/+KLfIGE5sj/4ot8gYTmyPxbO72Y767Q/NPn/rBWdtz/WUqBiPzLBP9ZSoGI/MsE/1lKgYj8ywT/WUqBiPzLBP2RoqIUsi8I/8n2wqBnkwz+Ck7jLBj3FPxCpwO7zlcY/vunYV7ugyj++6dhXu6DKP77p2Fe7oMo/TP/geqj5yz/aFOmdlVLNP/yf/PE3AtA//J/88TcC0D/EqoCDrq7QP4u1BBUlW9E/GssMOBK00j8ayww4ErTSP+HVkMmIYNM/qeAUW/8M1D9w65jsdbnUPzf2HH7sZdU/xgslodm+1j/GCyWh2b7WP44WqTJQa9c/HCyxVT3E2D8cLLFVPcTYP+Q2NeezcNk/rEG5eCod2j9yTD0KocnaPzpXwZsXdts/yGzJvgTP3D/IbMm+BM/cP5B3TVB7e90/WILR4fEn3j/ml9kE34DfP+aX2QTfgN8/V9Euy6oW4D8e3LJcIcPgPx7cslwhw+A/Suz4NtPF4T9K7Pg208XhP0rs+DbTxeE/rfG6fw4c4j8R93zISXLiP3X8PhGFyOI/2AEBWsAe4z88B8Oi+3TjPwMSRzRyIeQ/AxJHNHIh5D/LHMvF6M3kP8scy8XozeQ/LyKNDiQk5T+SJ09XX3rlP/YsEaCa0OU/WjLT6NUm5j+9N5UxEX3mPyE9V3pM0+Y/hUIZw4cp5z/pR9sLw3/nP0xNnVT+1ec/sFJfnTks6D8UWCHmdILoP3dd4y6w2Og/22Kld+su6T8/aGfAJoXpP6JtKQli2+k/BnPrUZ0x6j9qeK2a2IfqP859b+MT3uo/MYMxLE806z+ViPN0iorrPw==\",\"dtype\":\"float64\",\"order\":\"little\",\"shape\":[95]},\"upper_bound\":{\"__ndarray__\":\"O/M5T8Muwz/KCEJysIfEP1geSpWd4MU/5zNSuIo5xz8FX2L+ZOvJPwVfYv5k68k/IopyRD+dzD8iinJEP53MP0C1gooZT88/QLWCihlPzz9oZcVWA1TQPy9wSeh5ANE/hZDVnN0F0z+FkNWc3QXTP4WQ1ZzdBdM/TJtZLlSy0z/csGFRQQvVP9ywYVFBC9U/asZpdC5k1j9qxml0LmTWPzLR7QWlENc/+dtxlxu91z8XB4Ld9W7aPxcHgt31bto/FweC3fVu2j8XB4Ld9W7aP94RBm9sG9s/pRyKAOPH2z9tJw6SWXTcPzQykiPQIN0/i1Ie2DMm3z+LUh7YMybfP4tSHtgzJt8/Ul2iaarS3z8MNJN9kD/gP9Q+Fw8H7OA/1D4XDwfs4D84RNlXQkLhP5xJm6B9mOE/Y1QfMvRE4j9jVB8y9ETiP8ZZ4Xovm+I/Kl+jw2rx4j+OZGUMpkfjP/JpJ1XhneM/uXSr5ldK5D+5dKvmV0rkPx16bS+ToOQ/5ITxwAlN5T/khPHACU3lP0iKswlFo+U/rI91UoD55T8PlTebu0/mP3Oa+eP2peY/OqV9dW1S5z86pX11bVLnP56qP76oqOc/ArABB+T+5z/JuoWYWqvoP8m6hZhaq+g/LcBH4ZUB6T/0ystyDK7pP/TKy3IMruk/INsRTb6w6j8g2xFNvrDqPyDbEU2+sOo/g+DTlfkG6z/n5ZXeNF3rP0vrVydws+s/rvAZcKsJ7D8S9tu45l/sP9kAYEpdDO0/2QBgSl0M7T+hC+Tb07jtP6EL5NvTuO0/BRGmJA8P7j9oFmhtSmXuP8wbKraFu+4/MCHs/sAR7z+TJq5H/GfvP/crcJA3vu8/AAAAAAAA8D8AAAAAAADwPwAAAAAAAPA/AAAAAAAA8D8AAAAAAADwPwAAAAAAAPA/AAAAAAAA8D8AAAAAAADwPwAAAAAAAPA/AAAAAAAA8D8AAAAAAADwPwAAAAAAAPA/AAAAAAAA8D8AAAAAAADwPw==\",\"dtype\":\"float64\",\"order\":\"little\",\"shape\":[95]},\"value\":{\"__ndarray__\":\"AAAAAAAAREAAAAAAAABOQAAAAAAAwFJAAAAAAAAAVEAAAAAAAEBVQAAAAAAAQFVAAAAAAABAX0AAAAAAAEBfQAAAAAAAQGBAAAAAAABAYEAAAAAAAOBgQAAAAAAAgGFAAAAAAAAgYkAAAAAAACBiQAAAAAAAIGJAAAAAAADAYkAAAAAAAGBjQAAAAAAAYGNAAAAAAAAAZEAAAAAAAABkQAAAAAAAoGRAAAAAAABAZUAAAAAAAIBmQAAAAAAAgGZAAAAAAACAZkAAAAAAAIBmQAAAAAAAwGdAAAAAAABgaEAAAAAAAEBqQAAAAAAA4GpAAAAAAABgbUAAAAAAAGBtQAAAAAAAYG1AAAAAAACgbkAAAAAAAEBvQAAAAAAAkHBAAAAAAACQcEAAAAAAAIBxQAAAAAAAcHJAAAAAAAAQc0AAAAAAABBzQAAAAAAAAHRAAAAAAACgdEAAAAAAAPB0QAAAAAAA4HVAAAAAAAAwdkAAAAAAADB2QAAAAAAAgHZAAAAAAAAgd0AAAAAAACB3QAAAAAAAwHdAAAAAAABgeEAAAAAAALB4QAAAAAAAAHlAAAAAAABQeUAAAAAAAFB5QAAAAAAAoHlAAAAAAADweUAAAAAAAEB6QAAAAAAAQHpAAAAAAACQekAAAAAAANB7QAAAAAAA0HtAAAAAAADAfEAAAAAAAMB8QAAAAAAAwHxAAAAAAACgfkAAAAAAAPB+QAAAAAAAQH9AAAAAAACQf0AAAAAAAOB/QAAAAAAAaIBAAAAAAABogEAAAAAAAOCAQAAAAAAA4IBAAAAAAAD4gUAAAAAAAMCCQAAAAAAAOINAAAAAAAAAhEAAAAAAAKCEQAAAAAAA8IRAAAAAAAC4hUAAAAAAAOCFQAAAAAAA+IZAAAAAAABIh0AAAAAAAHCHQAAAAAAA6IdAAAAAAAAQiEAAAAAAADCLQAAAAAAAsI1AAAAAAABYkUAAAAAAAOSRQAAAAAAAnJNAAAAAAAAIlkAAAAAAAFycQA==\",\"dtype\":\"float64\",\"order\":\"little\",\"shape\":[95]}},\"selected\":{\"id\":\"3136\"},\"selection_policy\":{\"id\":\"3135\"}},\"id\":\"2936\",\"type\":\"ColumnDataSource\"},{\"attributes\":{\"source\":{\"id\":\"2942\"}},\"id\":\"2947\",\"type\":\"CDSView\"},{\"attributes\":{\"label\":{\"value\":\"unlabeled ecdf\"},\"renderers\":[{\"id\":\"2934\"}]},\"id\":\"2967\",\"type\":\"LegendItem\"},{\"attributes\":{\"data_source\":{\"id\":\"2936\"},\"glyph\":{\"id\":\"2938\"},\"hover_glyph\":null,\"muted_glyph\":null,\"nonselection_glyph\":{\"id\":\"2939\"},\"view\":{\"id\":\"2941\"}},\"id\":\"2940\",\"type\":\"GlyphRenderer\"},{\"attributes\":{\"data\":{\"ecdf\":{\"__ndarray__\":\"7ViBMNKOhT/tWIEw0o6VP7ICYaQdK6A/7ViBMNKOpT+yAmGkHSuwP7ICYaQdK7A/7ViBMNKOtT/tWIEw0o61PyivobyG8ro/KK+hvIbyuj9G2rECYaS9P7ICYaQdK8A/XkN5DeU1xD9eQ3kN5TXEP15DeQ3lNcQ/7ViBMNKOxT8LhJF2rEDIPwuEkXasQMg/KK+hvIbyyj8or6G8hvLKP7fEqd9zS8w/RtqxAmGkzT9BGGnHCoTRP0EYaccKhNE/QRhpxwqE0T9BGGnHCoTRPwgj7ViBMNI/zy1x6vfc0j+XOPV7bonTP15DeQ3lNdQ/tWMFwkg71j+1YwXCSDvWP7VjBcJIO9Y/fG6JU7/n1j9DeQ3lNZTXP9KOFQgj7dg/0o4VCCPt2D+amZmZmZnZP2GkHSsQRto/8LklTv2e2z/wuSVO/Z7bP7fEqd9zS9w/f88tcer33D9G2rECYaTdPw3lNZTXUN4/nPo9t8Sp3z+c+j23xKnfP7ICYaQdK+A/eQ3lNZTX4D95DeU1lNfgP90Sp37PLeE/QRhpxwqE4T+kHSsQRtrhPwgj7ViBMOI/zy1x6vfc4j/PLXHq99ziPzMzMzMzM+M/lzj1e26J4z9eQ3kN5TXkP15DeQ3lNeQ/wkg7ViCM5D+JU7/nljjlP4lTv+eWOOU/tWMFwkg75j+1YwXCSDvmP7VjBcJIO+Y/GGnHCoSR5j98bolTv+fmP+BzS5z6Pec/Q3kN5TWU5z+nfs8tcernP26JU7/nlug/bolTv+eW6D82lNdQXkPpPzaU11BeQ+k/mpmZmZmZ6T/9nlvi1O/pP2GkHSsQRuo/xanfc0uc6j8or6G8hvLqP4y0YwXCSOs/8LklTv2e6z9Uv+eWOPXrP7fEqd9zS+w/G8prKK+h7D9/zy1x6vfsP+LU77klTu0/RtqxAmGk7T+q33NLnPrtPw3lNZTXUO4/cer33BKn7j/V77klTv3uPzn1e26JU+8/nPo9t8Sp7z8AAAAAAADwPw==\",\"dtype\":\"float64\",\"order\":\"little\",\"shape\":[95]},\"index\":[29,47,28,85,61,63,50,78,59,9,45,11,91,21,71,26,43,80,5,65,74,66,18,90,36,19,8,83,14,82,62,86,42,30,56,25,3,35,12,70,33,17,32,64,72,0,37,15,75,6,38,93,39,54,55,34,40,69,49,23,1,13,57,7,10,24,60,58,87,53,51,44,76,89,2,16,48,20,73,84,41,68,67,81,92,52,31,27,22,77,46,88,79,94,4],\"lower_bound\":{\"__ndarray__\":\"AAAAAAAAAAAAAAAAAAAAAAAAAAAAAAAAAAAAAAAAAAAAAAAAAAAAAAAAAAAAAAAAAAAAAAAAAAAAAAAAAAAAAAAAAAAAAAAAAAAAAAAAAAAAAAAAAAAAAAAAAAAAAAAAkC07CncAkz+QLTsKdwCTP5AtOwp3AJM/CNp7IuDHnT98mX4pWaupP3yZfilZq6k/+KLfIGE5sj/4ot8gYTmyPxbO72Y767Q/NPn/rBWdtz/WUqBiPzLBP9ZSoGI/MsE/1lKgYj8ywT/WUqBiPzLBP2RoqIUsi8I/8n2wqBnkwz+Ck7jLBj3FPxCpwO7zlcY/vunYV7ugyj++6dhXu6DKP77p2Fe7oMo/TP/geqj5yz/aFOmdlVLNP/yf/PE3AtA//J/88TcC0D/EqoCDrq7QP4u1BBUlW9E/GssMOBK00j8ayww4ErTSP+HVkMmIYNM/qeAUW/8M1D9w65jsdbnUPzf2HH7sZdU/xgslodm+1j/GCyWh2b7WP44WqTJQa9c/HCyxVT3E2D8cLLFVPcTYP+Q2NeezcNk/rEG5eCod2j9yTD0KocnaPzpXwZsXdts/yGzJvgTP3D/IbMm+BM/cP5B3TVB7e90/WILR4fEn3j/ml9kE34DfP+aX2QTfgN8/V9Euy6oW4D8e3LJcIcPgPx7cslwhw+A/Suz4NtPF4T9K7Pg208XhP0rs+DbTxeE/rfG6fw4c4j8R93zISXLiP3X8PhGFyOI/2AEBWsAe4z88B8Oi+3TjPwMSRzRyIeQ/AxJHNHIh5D/LHMvF6M3kP8scy8XozeQ/LyKNDiQk5T+SJ09XX3rlP/YsEaCa0OU/WjLT6NUm5j+9N5UxEX3mPyE9V3pM0+Y/hUIZw4cp5z/pR9sLw3/nP0xNnVT+1ec/sFJfnTks6D8UWCHmdILoP3dd4y6w2Og/22Kld+su6T8/aGfAJoXpP6JtKQli2+k/BnPrUZ0x6j9qeK2a2IfqP859b+MT3uo/MYMxLE806z+ViPN0iorrPw==\",\"dtype\":\"float64\",\"order\":\"little\",\"shape\":[95]},\"upper_bound\":{\"__ndarray__\":\"O/M5T8Muwz/KCEJysIfEP1geSpWd4MU/5zNSuIo5xz8FX2L+ZOvJPwVfYv5k68k/IopyRD+dzD8iinJEP53MP0C1gooZT88/QLWCihlPzz9oZcVWA1TQPy9wSeh5ANE/hZDVnN0F0z+FkNWc3QXTP4WQ1ZzdBdM/TJtZLlSy0z/csGFRQQvVP9ywYVFBC9U/asZpdC5k1j9qxml0LmTWPzLR7QWlENc/+dtxlxu91z8XB4Ld9W7aPxcHgt31bto/FweC3fVu2j8XB4Ld9W7aP94RBm9sG9s/pRyKAOPH2z9tJw6SWXTcPzQykiPQIN0/i1Ie2DMm3z+LUh7YMybfP4tSHtgzJt8/Ul2iaarS3z8MNJN9kD/gP9Q+Fw8H7OA/1D4XDwfs4D84RNlXQkLhP5xJm6B9mOE/Y1QfMvRE4j9jVB8y9ETiP8ZZ4Xovm+I/Kl+jw2rx4j+OZGUMpkfjP/JpJ1XhneM/uXSr5ldK5D+5dKvmV0rkPx16bS+ToOQ/5ITxwAlN5T/khPHACU3lP0iKswlFo+U/rI91UoD55T8PlTebu0/mP3Oa+eP2peY/OqV9dW1S5z86pX11bVLnP56qP76oqOc/ArABB+T+5z/JuoWYWqvoP8m6hZhaq+g/LcBH4ZUB6T/0ystyDK7pP/TKy3IMruk/INsRTb6w6j8g2xFNvrDqPyDbEU2+sOo/g+DTlfkG6z/n5ZXeNF3rP0vrVydws+s/rvAZcKsJ7D8S9tu45l/sP9kAYEpdDO0/2QBgSl0M7T+hC+Tb07jtP6EL5NvTuO0/BRGmJA8P7j9oFmhtSmXuP8wbKraFu+4/MCHs/sAR7z+TJq5H/GfvP/crcJA3vu8/AAAAAAAA8D8AAAAAAADwPwAAAAAAAPA/AAAAAAAA8D8AAAAAAADwPwAAAAAAAPA/AAAAAAAA8D8AAAAAAADwPwAAAAAAAPA/AAAAAAAA8D8AAAAAAADwPwAAAAAAAPA/AAAAAAAA8D8AAAAAAADwPw==\",\"dtype\":\"float64\",\"order\":\"little\",\"shape\":[95]},\"value\":{\"__ndarray__\":\"AAAAAAAAREAAAAAAAABOQAAAAAAAwFJAAAAAAAAAVEAAAAAAAEBVQAAAAAAAQFVAAAAAAABAX0AAAAAAAEBfQAAAAAAAQGBAAAAAAABAYEAAAAAAAOBgQAAAAAAAgGFAAAAAAAAgYkAAAAAAACBiQAAAAAAAIGJAAAAAAADAYkAAAAAAAGBjQAAAAAAAYGNAAAAAAAAAZEAAAAAAAABkQAAAAAAAoGRAAAAAAABAZUAAAAAAAIBmQAAAAAAAgGZAAAAAAACAZkAAAAAAAIBmQAAAAAAAwGdAAAAAAABgaEAAAAAAAEBqQAAAAAAA4GpAAAAAAABgbUAAAAAAAGBtQAAAAAAAYG1AAAAAAACgbkAAAAAAAEBvQAAAAAAAkHBAAAAAAACQcEAAAAAAAIBxQAAAAAAAcHJAAAAAAAAQc0AAAAAAABBzQAAAAAAAAHRAAAAAAACgdEAAAAAAAPB0QAAAAAAA4HVAAAAAAAAwdkAAAAAAADB2QAAAAAAAgHZAAAAAAAAgd0AAAAAAACB3QAAAAAAAwHdAAAAAAABgeEAAAAAAALB4QAAAAAAAAHlAAAAAAABQeUAAAAAAAFB5QAAAAAAAoHlAAAAAAADweUAAAAAAAEB6QAAAAAAAQHpAAAAAAACQekAAAAAAANB7QAAAAAAA0HtAAAAAAADAfEAAAAAAAMB8QAAAAAAAwHxAAAAAAACgfkAAAAAAAPB+QAAAAAAAQH9AAAAAAACQf0AAAAAAAOB/QAAAAAAAaIBAAAAAAABogEAAAAAAAOCAQAAAAAAA4IBAAAAAAAD4gUAAAAAAAMCCQAAAAAAAOINAAAAAAAAAhEAAAAAAAKCEQAAAAAAA8IRAAAAAAAC4hUAAAAAAAOCFQAAAAAAA+IZAAAAAAABIh0AAAAAAAHCHQAAAAAAA6IdAAAAAAAAQiEAAAAAAADCLQAAAAAAAsI1AAAAAAABYkUAAAAAAAOSRQAAAAAAAnJNAAAAAAAAIlkAAAAAAAFycQA==\",\"dtype\":\"float64\",\"order\":\"little\",\"shape\":[95]}},\"selected\":{\"id\":\"3138\"},\"selection_policy\":{\"id\":\"3137\"}},\"id\":\"2942\",\"type\":\"ColumnDataSource\"},{\"attributes\":{},\"id\":\"3141\",\"type\":\"UnionRenderers\"},{\"attributes\":{},\"id\":\"3127\",\"type\":\"BasicTickFormatter\"},{\"attributes\":{\"fill_alpha\":{\"value\":0.1},\"fill_color\":{\"value\":\"#5e3c99\"},\"line_alpha\":{\"value\":0.1},\"line_color\":{\"value\":\"#5e3c99\"},\"x\":{\"field\":\"value\"},\"y\":{\"field\":\"lower_bound\"}},\"id\":\"2939\",\"type\":\"Circle\"},{\"attributes\":{\"source\":{\"id\":\"2960\"}},\"id\":\"2965\",\"type\":\"CDSView\"},{\"attributes\":{},\"id\":\"3131\",\"type\":\"AllLabels\"},{\"attributes\":{\"label\":{\"value\":\"labeled lower bound\"},\"renderers\":[{\"id\":\"2958\"}]},\"id\":\"2971\",\"type\":\"LegendItem\"},{\"attributes\":{\"label\":{\"value\":\"unlabeled lower bound\"},\"renderers\":[{\"id\":\"2940\"}]},\"id\":\"2968\",\"type\":\"LegendItem\"},{\"attributes\":{},\"id\":\"3135\",\"type\":\"UnionRenderers\"},{\"attributes\":{\"line_alpha\":0.1,\"line_color\":\"#b2abd2\",\"line_width\":3,\"x\":{\"field\":\"value\"},\"y\":{\"field\":\"ecdf\"}},\"id\":\"2933\",\"type\":\"Line\"},{\"attributes\":{},\"id\":\"3128\",\"type\":\"AllLabels\"},{\"attributes\":{\"fill_alpha\":{\"value\":0.5},\"fill_color\":{\"value\":\"#5e3c99\"},\"line_alpha\":{\"value\":0.5},\"line_color\":{\"value\":\"#5e3c99\"},\"x\":{\"field\":\"value\"},\"y\":{\"field\":\"upper_bound\"}},\"id\":\"2944\",\"type\":\"Circle\"},{\"attributes\":{\"fill_alpha\":{\"value\":0.3},\"fill_color\":{\"value\":\"#e66101\"},\"line_alpha\":{\"value\":0.3},\"line_color\":{\"value\":\"#e66101\"},\"x\":{\"field\":\"value\"},\"y\":{\"field\":\"lower_bound\"}},\"id\":\"2956\",\"type\":\"Circle\"},{\"attributes\":{\"data\":{\"ecdf\":{\"__ndarray__\":\"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\",\"dtype\":\"float64\",\"order\":\"little\",\"shape\":[211]},\"index\":[10,15,34,5,41,203,173,9,54,168,53,87,78,163,57,171,59,2,112,133,75,201,121,31,36,197,17,118,182,138,146,167,194,79,84,32,105,82,127,96,169,143,206,179,152,162,73,156,16,185,198,136,12,69,13,195,174,86,80,193,22,66,74,126,67,55,154,107,35,58,158,70,90,3,166,189,145,178,200,192,95,88,102,148,21,208,45,24,14,25,7,139,6,39,111,64,8,77,72,132,97,181,11,141,165,186,26,204,63,103,89,119,120,83,40,137,104,147,142,125,23,134,122,109,51,29,99,110,184,202,0,20,205,60,106,56,153,151,27,159,131,188,61,85,68,144,44,164,38,4,140,37,46,48,98,157,210,123,115,187,209,65,190,30,49,43,52,100,92,161,42,180,91,135,47,33,177,199,207,175,62,71,113,191,93,150,128,124,50,101,81,108,94,18,130,129,176,76,117,114,19,116,196,183,172,28,149,1,160,170,155],\"lower_bound\":{\"__ndarray__\":\"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\",\"dtype\":\"float64\",\"order\":\"little\",\"shape\":[211]},\"upper_bound\":{\"__ndarray__\":\"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\",\"dtype\":\"float64\",\"order\":\"little\",\"shape\":[211]},\"value\":{\"__ndarray__\":\"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\",\"dtype\":\"float64\",\"order\":\"little\",\"shape\":[211]}},\"selected\":{\"id\":\"3140\"},\"selection_policy\":{\"id\":\"3139\"}},\"id\":\"2948\",\"type\":\"ColumnDataSource\"},{\"attributes\":{\"fill_alpha\":{\"value\":0.1},\"fill_color\":{\"value\":\"#e66101\"},\"line_alpha\":{\"value\":0.1},\"line_color\":{\"value\":\"#e66101\"},\"x\":{\"field\":\"value\"},\"y\":{\"field\":\"upper_bound\"}},\"id\":\"2963\",\"type\":\"Circle\"},{\"attributes\":{\"fill_alpha\":{\"value\":0.1},\"fill_color\":{\"value\":\"#e66101\"},\"line_alpha\":{\"value\":0.1},\"line_color\":{\"value\":\"#e66101\"},\"x\":{\"field\":\"value\"},\"y\":{\"field\":\"lower_bound\"}},\"id\":\"2957\",\"type\":\"Circle\"},{\"attributes\":{\"data\":{\"ecdf\":{\"__ndarray__\":\"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\",\"dtype\":\"float64\",\"order\":\"little\",\"shape\":[211]},\"index\":[10,15,34,5,41,203,173,9,54,168,53,87,78,163,57,171,59,2,112,133,75,201,121,31,36,197,17,118,182,138,146,167,194,79,84,32,105,82,127,96,169,143,206,179,152,162,73,156,16,185,198,136,12,69,13,195,174,86,80,193,22,66,74,126,67,55,154,107,35,58,158,70,90,3,166,189,145,178,200,192,95,88,102,148,21,208,45,24,14,25,7,139,6,39,111,64,8,77,72,132,97,181,11,141,165,186,26,204,63,103,89,119,120,83,40,137,104,147,142,125,23,134,122,109,51,29,99,110,184,202,0,20,205,60,106,56,153,151,27,159,131,188,61,85,68,144,44,164,38,4,140,37,46,48,98,157,210,123,115,187,209,65,190,30,49,43,52,100,92,161,42,180,91,135,47,33,177,199,207,175,62,71,113,191,93,150,128,124,50,101,81,108,94,18,130,129,176,76,117,114,19,116,196,183,172,28,149,1,160,170,155],\"lower_bound\":{\"__ndarray__\":\"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\",\"dtype\":\"float64\",\"order\":\"little\",\"shape\":[211]},\"upper_bound\":{\"__ndarray__\":\"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\",\"dtype\":\"float64\",\"order\":\"little\",\"shape\":[211]},\"value\":{\"__ndarray__\":\"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\",\"dtype\":\"float64\",\"order\":\"little\",\"shape\":[211]}},\"selected\":{\"id\":\"3142\"},\"selection_policy\":{\"id\":\"3141\"}},\"id\":\"2954\",\"type\":\"ColumnDataSource\"},{\"attributes\":{\"data\":{\"ecdf\":{\"__ndarray__\":\"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\",\"dtype\":\"float64\",\"order\":\"little\",\"shape\":[211]},\"index\":[10,15,34,5,41,203,173,9,54,168,53,87,78,163,57,171,59,2,112,133,75,201,121,31,36,197,17,118,182,138,146,167,194,79,84,32,105,82,127,96,169,143,206,179,152,162,73,156,16,185,198,136,12,69,13,195,174,86,80,193,22,66,74,126,67,55,154,107,35,58,158,70,90,3,166,189,145,178,200,192,95,88,102,148,21,208,45,24,14,25,7,139,6,39,111,64,8,77,72,132,97,181,11,141,165,186,26,204,63,103,89,119,120,83,40,137,104,147,142,125,23,134,122,109,51,29,99,110,184,202,0,20,205,60,106,56,153,151,27,159,131,188,61,85,68,144,44,164,38,4,140,37,46,48,98,157,210,123,115,187,209,65,190,30,49,43,52,100,92,161,42,180,91,135,47,33,177,199,207,175,62,71,113,191,93,150,128,124,50,101,81,108,94,18,130,129,176,76,117,114,19,116,196,183,172,28,149,1,160,170,155],\"lower_bound\":{\"__ndarray__\":\"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\",\"dtype\":\"float64\",\"order\":\"little\",\"shape\":[211]},\"upper_bound\":{\"__ndarray__\":\"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\",\"dtype\":\"float64\",\"order\":\"little\",\"shape\":[211]},\"value\":{\"__ndarray__\":\"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\",\"dtype\":\"float64\",\"order\":\"little\",\"shape\":[211]}},\"selected\":{\"id\":\"3144\"},\"selection_policy\":{\"id\":\"3143\"}},\"id\":\"2960\",\"type\":\"ColumnDataSource\"},{\"attributes\":{},\"id\":\"3136\",\"type\":\"Selection\"},{\"attributes\":{\"data_source\":{\"id\":\"2948\"},\"glyph\":{\"id\":\"2950\"},\"hover_glyph\":null,\"muted_glyph\":null,\"nonselection_glyph\":{\"id\":\"2951\"},\"view\":{\"id\":\"2953\"}},\"id\":\"2952\",\"type\":\"GlyphRenderer\"},{\"attributes\":{\"line_alpha\":0.1,\"line_color\":\"#fdb863\",\"line_width\":3,\"x\":{\"field\":\"value\"},\"y\":{\"field\":\"ecdf\"}},\"id\":\"2951\",\"type\":\"Line\"},{\"attributes\":{},\"id\":\"3130\",\"type\":\"BasicTickFormatter\"},{\"attributes\":{\"data_source\":{\"id\":\"2942\"},\"glyph\":{\"id\":\"2944\"},\"hover_glyph\":null,\"muted_glyph\":null,\"nonselection_glyph\":{\"id\":\"2945\"},\"view\":{\"id\":\"2947\"}},\"id\":\"2946\",\"type\":\"GlyphRenderer\"},{\"attributes\":{\"source\":{\"id\":\"2936\"}},\"id\":\"2941\",\"type\":\"CDSView\"},{\"attributes\":{\"data\":{\"ecdf\":{\"__ndarray__\":\"7ViBMNKOhT/tWIEw0o6VP7ICYaQdK6A/7ViBMNKOpT+yAmGkHSuwP7ICYaQdK7A/7ViBMNKOtT/tWIEw0o61PyivobyG8ro/KK+hvIbyuj9G2rECYaS9P7ICYaQdK8A/XkN5DeU1xD9eQ3kN5TXEP15DeQ3lNcQ/7ViBMNKOxT8LhJF2rEDIPwuEkXasQMg/KK+hvIbyyj8or6G8hvLKP7fEqd9zS8w/RtqxAmGkzT9BGGnHCoTRP0EYaccKhNE/QRhpxwqE0T9BGGnHCoTRPwgj7ViBMNI/zy1x6vfc0j+XOPV7bonTP15DeQ3lNdQ/tWMFwkg71j+1YwXCSDvWP7VjBcJIO9Y/fG6JU7/n1j9DeQ3lNZTXP9KOFQgj7dg/0o4VCCPt2D+amZmZmZnZP2GkHSsQRto/8LklTv2e2z/wuSVO/Z7bP7fEqd9zS9w/f88tcer33D9G2rECYaTdPw3lNZTXUN4/nPo9t8Sp3z+c+j23xKnfP7ICYaQdK+A/eQ3lNZTX4D95DeU1lNfgP90Sp37PLeE/QRhpxwqE4T+kHSsQRtrhPwgj7ViBMOI/zy1x6vfc4j/PLXHq99ziPzMzMzMzM+M/lzj1e26J4z9eQ3kN5TXkP15DeQ3lNeQ/wkg7ViCM5D+JU7/nljjlP4lTv+eWOOU/tWMFwkg75j+1YwXCSDvmP7VjBcJIO+Y/GGnHCoSR5j98bolTv+fmP+BzS5z6Pec/Q3kN5TWU5z+nfs8tcernP26JU7/nlug/bolTv+eW6D82lNdQXkPpPzaU11BeQ+k/mpmZmZmZ6T/9nlvi1O/pP2GkHSsQRuo/xanfc0uc6j8or6G8hvLqP4y0YwXCSOs/8LklTv2e6z9Uv+eWOPXrP7fEqd9zS+w/G8prKK+h7D9/zy1x6vfsP+LU77klTu0/RtqxAmGk7T+q33NLnPrtPw3lNZTXUO4/cer33BKn7j/V77klTv3uPzn1e26JU+8/nPo9t8Sp7z8AAAAAAADwPw==\",\"dtype\":\"float64\",\"order\":\"little\",\"shape\":[95]},\"index\":[29,47,28,85,61,63,50,78,59,9,45,11,91,21,71,26,43,80,5,65,74,66,18,90,36,19,8,83,14,82,62,86,42,30,56,25,3,35,12,70,33,17,32,64,72,0,37,15,75,6,38,93,39,54,55,34,40,69,49,23,1,13,57,7,10,24,60,58,87,53,51,44,76,89,2,16,48,20,73,84,41,68,67,81,92,52,31,27,22,77,46,88,79,94,4],\"lower_bound\":{\"__ndarray__\":\"AAAAAAAAAAAAAAAAAAAAAAAAAAAAAAAAAAAAAAAAAAAAAAAAAAAAAAAAAAAAAAAAAAAAAAAAAAAAAAAAAAAAAAAAAAAAAAAAAAAAAAAAAAAAAAAAAAAAAAAAAAAAAAAAkC07CncAkz+QLTsKdwCTP5AtOwp3AJM/CNp7IuDHnT98mX4pWaupP3yZfilZq6k/+KLfIGE5sj/4ot8gYTmyPxbO72Y767Q/NPn/rBWdtz/WUqBiPzLBP9ZSoGI/MsE/1lKgYj8ywT/WUqBiPzLBP2RoqIUsi8I/8n2wqBnkwz+Ck7jLBj3FPxCpwO7zlcY/vunYV7ugyj++6dhXu6DKP77p2Fe7oMo/TP/geqj5yz/aFOmdlVLNP/yf/PE3AtA//J/88TcC0D/EqoCDrq7QP4u1BBUlW9E/GssMOBK00j8ayww4ErTSP+HVkMmIYNM/qeAUW/8M1D9w65jsdbnUPzf2HH7sZdU/xgslodm+1j/GCyWh2b7WP44WqTJQa9c/HCyxVT3E2D8cLLFVPcTYP+Q2NeezcNk/rEG5eCod2j9yTD0KocnaPzpXwZsXdts/yGzJvgTP3D/IbMm+BM/cP5B3TVB7e90/WILR4fEn3j/ml9kE34DfP+aX2QTfgN8/V9Euy6oW4D8e3LJcIcPgPx7cslwhw+A/Suz4NtPF4T9K7Pg208XhP0rs+DbTxeE/rfG6fw4c4j8R93zISXLiP3X8PhGFyOI/2AEBWsAe4z88B8Oi+3TjPwMSRzRyIeQ/AxJHNHIh5D/LHMvF6M3kP8scy8XozeQ/LyKNDiQk5T+SJ09XX3rlP/YsEaCa0OU/WjLT6NUm5j+9N5UxEX3mPyE9V3pM0+Y/hUIZw4cp5z/pR9sLw3/nP0xNnVT+1ec/sFJfnTks6D8UWCHmdILoP3dd4y6w2Og/22Kld+su6T8/aGfAJoXpP6JtKQli2+k/BnPrUZ0x6j9qeK2a2IfqP859b+MT3uo/MYMxLE806z+ViPN0iorrPw==\",\"dtype\":\"float64\",\"order\":\"little\",\"shape\":[95]},\"upper_bound\":{\"__ndarray__\":\"O/M5T8Muwz/KCEJysIfEP1geSpWd4MU/5zNSuIo5xz8FX2L+ZOvJPwVfYv5k68k/IopyRD+dzD8iinJEP53MP0C1gooZT88/QLWCihlPzz9oZcVWA1TQPy9wSeh5ANE/hZDVnN0F0z+FkNWc3QXTP4WQ1ZzdBdM/TJtZLlSy0z/csGFRQQvVP9ywYVFBC9U/asZpdC5k1j9qxml0LmTWPzLR7QWlENc/+dtxlxu91z8XB4Ld9W7aPxcHgt31bto/FweC3fVu2j8XB4Ld9W7aP94RBm9sG9s/pRyKAOPH2z9tJw6SWXTcPzQykiPQIN0/i1Ie2DMm3z+LUh7YMybfP4tSHtgzJt8/Ul2iaarS3z8MNJN9kD/gP9Q+Fw8H7OA/1D4XDwfs4D84RNlXQkLhP5xJm6B9mOE/Y1QfMvRE4j9jVB8y9ETiP8ZZ4Xovm+I/Kl+jw2rx4j+OZGUMpkfjP/JpJ1XhneM/uXSr5ldK5D+5dKvmV0rkPx16bS+ToOQ/5ITxwAlN5T/khPHACU3lP0iKswlFo+U/rI91UoD55T8PlTebu0/mP3Oa+eP2peY/OqV9dW1S5z86pX11bVLnP56qP76oqOc/ArABB+T+5z/JuoWYWqvoP8m6hZhaq+g/LcBH4ZUB6T/0ystyDK7pP/TKy3IMruk/INsRTb6w6j8g2xFNvrDqPyDbEU2+sOo/g+DTlfkG6z/n5ZXeNF3rP0vrVydws+s/rvAZcKsJ7D8S9tu45l/sP9kAYEpdDO0/2QBgSl0M7T+hC+Tb07jtP6EL5NvTuO0/BRGmJA8P7j9oFmhtSmXuP8wbKraFu+4/MCHs/sAR7z+TJq5H/GfvP/crcJA3vu8/AAAAAAAA8D8AAAAAAADwPwAAAAAAAPA/AAAAAAAA8D8AAAAAAADwPwAAAAAAAPA/AAAAAAAA8D8AAAAAAADwPwAAAAAAAPA/AAAAAAAA8D8AAAAAAADwPwAAAAAAAPA/AAAAAAAA8D8AAAAAAADwPw==\",\"dtype\":\"float64\",\"order\":\"little\",\"shape\":[95]},\"value\":{\"__ndarray__\":\"AAAAAAAAREAAAAAAAABOQAAAAAAAwFJAAAAAAAAAVEAAAAAAAEBVQAAAAAAAQFVAAAAAAABAX0AAAAAAAEBfQAAAAAAAQGBAAAAAAABAYEAAAAAAAOBgQAAAAAAAgGFAAAAAAAAgYkAAAAAAACBiQAAAAAAAIGJAAAAAAADAYkAAAAAAAGBjQAAAAAAAYGNAAAAAAAAAZEAAAAAAAABkQAAAAAAAoGRAAAAAAABAZUAAAAAAAIBmQAAAAAAAgGZAAAAAAACAZkAAAAAAAIBmQAAAAAAAwGdAAAAAAABgaEAAAAAAAEBqQAAAAAAA4GpAAAAAAABgbUAAAAAAAGBtQAAAAAAAYG1AAAAAAACgbkAAAAAAAEBvQAAAAAAAkHBAAAAAAACQcEAAAAAAAIBxQAAAAAAAcHJAAAAAAAAQc0AAAAAAABBzQAAAAAAAAHRAAAAAAACgdEAAAAAAAPB0QAAAAAAA4HVAAAAAAAAwdkAAAAAAADB2QAAAAAAAgHZAAAAAAAAgd0AAAAAAACB3QAAAAAAAwHdAAAAAAABgeEAAAAAAALB4QAAAAAAAAHlAAAAAAABQeUAAAAAAAFB5QAAAAAAAoHlAAAAAAADweUAAAAAAAEB6QAAAAAAAQHpAAAAAAACQekAAAAAAANB7QAAAAAAA0HtAAAAAAADAfEAAAAAAAMB8QAAAAAAAwHxAAAAAAACgfkAAAAAAAPB+QAAAAAAAQH9AAAAAAACQf0AAAAAAAOB/QAAAAAAAaIBAAAAAAABogEAAAAAAAOCAQAAAAAAA4IBAAAAAAAD4gUAAAAAAAMCCQAAAAAAAOINAAAAAAAAAhEAAAAAAAKCEQAAAAAAA8IRAAAAAAAC4hUAAAAAAAOCFQAAAAAAA+IZAAAAAAABIh0AAAAAAAHCHQAAAAAAA6IdAAAAAAAAQiEAAAAAAADCLQAAAAAAAsI1AAAAAAABYkUAAAAAAAOSRQAAAAAAAnJNAAAAAAAAIlkAAAAAAAFycQA==\",\"dtype\":\"float64\",\"order\":\"little\",\"shape\":[95]}},\"selected\":{\"id\":\"3134\"},\"selection_policy\":{\"id\":\"3133\"}},\"id\":\"2930\",\"type\":\"ColumnDataSource\"}],\"root_ids\":[\"2897\"]},\"title\":\"Bokeh Application\",\"version\":\"2.3.3\"}};\n",
       "  var render_items = [{\"docid\":\"2fb8165e-dd3c-4bb7-a53b-9af554d049fd\",\"root_ids\":[\"2897\"],\"roots\":{\"2897\":\"6a9f8c50-6e95-4666-b2bb-325e148a3637\"}}];\n",
       "  root.Bokeh.embed.embed_items_notebook(docs_json, render_items);\n",
       "\n",
       "  }\n",
       "  if (root.Bokeh !== undefined) {\n",
       "    embed_document(root);\n",
       "  } else {\n",
       "    var attempts = 0;\n",
       "    var timer = setInterval(function(root) {\n",
       "      if (root.Bokeh !== undefined) {\n",
       "        clearInterval(timer);\n",
       "        embed_document(root);\n",
       "      } else {\n",
       "        attempts++;\n",
       "        if (attempts > 100) {\n",
       "          clearInterval(timer);\n",
       "          console.log(\"Bokeh: ERROR: Unable to run BokehJS code because BokehJS library is missing\");\n",
       "        }\n",
       "      }\n",
       "    }, 10, root)\n",
       "  }\n",
       "})(window);"
      ],
      "application/vnd.bokehjs_exec.v0+json": ""
     },
     "metadata": {
      "application/vnd.bokehjs_exec.v0+json": {
       "id": "2897"
      }
     },
     "output_type": "display_data"
    }
   ],
   "source": [
    "p2 = bokeh.plotting.figure(\n",
    "    width=800,\n",
    "    height=400,\n",
    "    x_axis_label=\"time to catastrophe\",\n",
    "    y_axis_label=\"ecdf\",\n",
    "    title = \"unlabeled vs. labeled tubulin\",\n",
    ")\n",
    "\n",
    "e = p2.line(source = df_unlabeled, x = \"value\", y = \"ecdf\",\n",
    "             color = \"#b2abd2\", line_width = 3, alpha = 0.7)\n",
    "\n",
    "l = p2.circle(source = df_unlabeled, x = \"value\", y = \"lower_bound\",\n",
    "             color = \"#5e3c99\", alpha = 0.5)\n",
    "\n",
    "u = p2.circle(source = df_unlabeled, x = \"value\", y = \"upper_bound\",\n",
    "             color = \"#5e3c99\", alpha = 0.5)\n",
    "\n",
    "e_l = p2.line(source = df_labeled, x = \"value\", y = \"ecdf\",\n",
    "               color = \"#fdb863\", line_width = 3, alpha = 0.7)\n",
    "\n",
    "l_l = p2.circle(source = df_labeled, x = \"value\", y = \"lower_bound\",\n",
    "               color = \"#e66101\", alpha = 0.3)\n",
    "\n",
    "u_l = p2.circle(source = df_labeled, x = \"value\", y = \"upper_bound\",\n",
    "               color = \"#e66101\", alpha = 0.3)\n",
    "\n",
    "\n",
    "legend = Legend(items=[(\"unlabeled ecdf\"   , [e]),\n",
    "                       (\"unlabeled lower bound\" , [l]),\n",
    "                       (\"unlabeled upper bound\" , [u]),\n",
    "                       (\"labeled ecdf\"   , [e_l]),\n",
    "                       (\"labeled lower bound\" , [l_l]),\n",
    "                       (\"labeled upper bound\" , [u_l]),], location=\"center\")\n",
    "\n",
    "p2.add_layout(legend, 'right')\n",
    "p2.legend.click_policy = \"hide\"\n",
    "\n",
    "bokeh.io.show(p2)"
   ]
  },
  {
   "cell_type": "markdown",
   "id": "0b66eee1-8353-427e-a73b-2d33836d6b9b",
   "metadata": {},
   "source": [
    "The purple dots here show the unlabeled tubulin bounds while the orange dots show the labeled tubulin bounds, and the lines show the ecdf values. <br />\n",
    "Comparing the lower bounds, the orange and purple dots seem to follow the same trajectory. This means that the unlabeled and labeled tubulin lower bound values are very similar. <br />\n",
    "Comparing the upper bounds, the labeled values the purple dots are noticeably above the orange dots. This means that the unlabeled upper bound values are slightly higher than the labeled upper bound values, though the shape of the bounds is the same. <br />\n",
    "Though the upper bound values are not as aligned as the lower bound values, it is still reasonable to conclude that these confidence intervals are very similar. Therefore, this quick visual check supports the hypothesis that microtubule times to catastrophe are identically distributed between unlabeled and labeled tubulin. <br /><br /> \n",
    "This conclusion matches what we found from the iqplot calculations."
   ]
  },
  {
   "cell_type": "markdown",
   "id": "01683fd2-6ad2-4a6f-872b-682b46fa9cd6",
   "metadata": {},
   "source": [
    "### 2. Mean time to catastrophe comparison ###\n",
    "Next, we compare the mean times to catastrophe between labeled and unlabeled tubulin to detect any possible differences in performance. If the mean times are close to each other, there is more reason to believe that the fluorescent markers do not affect microtubule performance. To check this, we use nonparametric bootstrapping to compute confidence intervals for the plug-in estimate for the mean time to catastrophe for each of the two conditions. First we define some functions to calculate our bootstrap replicate for each bootstrap sample. "
   ]
  },
  {
   "cell_type": "code",
   "execution_count": 36,
   "id": "5f589101-6e60-416e-a5bd-0312968483e0",
   "metadata": {},
   "outputs": [],
   "source": [
    "rg = np.random.default_rng()\n",
    "\n",
    "# set up numpy arrays with values for the labeled and unlabeled tubulin\n",
    "unlabeled_tubulin = df.loc[df['labeled'] == 'unlabeled tubulin', 'time to catastrophe (s)'].values\n",
    "labeled_tubulin = df.loc[df['labeled'] == 'labeled tubulin', 'time to catastrophe (s)'].values\n",
    "\n",
    "def generate_bootstrap_samples(data):\n",
    "    \"\"\"Draw N bootstrap samples from a 1D data set.\"\"\"\n",
    "    return rg.choice(data, size=len(data))\n",
    "\n",
    "def bootstrap_reps_mean(data, N=1):\n",
    "    \"\"\"Draw boostrap replicates of the mean from 1D data set.\"\"\"\n",
    "    means = np.empty(N)\n",
    "    for i in range(N):\n",
    "        means[i] = np.mean(generate_bootstrap_samples(data))\n",
    "    return means"
   ]
  },
  {
   "cell_type": "markdown",
   "id": "2dc38ac6-f048-44ca-bb62-d7a499175a94",
   "metadata": {},
   "source": [
    "Now we can generate 100,000 bootstrap samples for both the labeled and unlabeled and calculate the plug-in estimate for the mean."
   ]
  },
  {
   "cell_type": "code",
   "execution_count": 37,
   "id": "88d6ff0c-0398-499e-87e3-8b5d113fede3",
   "metadata": {},
   "outputs": [
    {
     "name": "stdout",
     "output_type": "stream",
     "text": [
      "Unlabeled tubulin time to catastrophe(s) confidence interval: [353.68, 476.89]\n",
      "Labeled tubulin time to catastrophe(s) confidence interval: [401.90, 481.54]\n"
     ]
    }
   ],
   "source": [
    "unlabeled_means = bootstrap_reps_mean(unlabeled_tubulin, N=100000)\n",
    "labeled_means = bootstrap_reps_mean(labeled_tubulin, N=100000)\n",
    "\n",
    "unlabeled_mean_conf_int = np.percentile(unlabeled_means, [2.5, 97.5])\n",
    "labeled_mean_conf_int = np.percentile(labeled_means, [2.5, 97.5])\n",
    "\n",
    "print(f\"Unlabeled tubulin time to catastrophe(s) confidence interval: [{unlabeled_mean_conf_int[0]:.2f}, {unlabeled_mean_conf_int[1]:.2f}]\")\n",
    "print(f\"Labeled tubulin time to catastrophe(s) confidence interval: [{labeled_mean_conf_int[0]:.2f}, {labeled_mean_conf_int[1]:.2f}]\")"
   ]
  },
  {
   "cell_type": "markdown",
   "id": "b9f3acd8-dbbd-40dc-839e-b44ca8460993",
   "metadata": {},
   "source": [
    "We use the `bebi103` package to visually display these confidence intervals."
   ]
  },
  {
   "cell_type": "code",
   "execution_count": 38,
   "id": "535ae1f8-b6ec-4fda-91f0-9e74ab4ed6f8",
   "metadata": {},
   "outputs": [
    {
     "data": {
      "text/html": [
       "\n",
       "\n",
       "\n",
       "\n",
       "\n",
       "\n",
       "  <div class=\"bk-root\" id=\"c8075f35-cc1a-4b5c-9602-d7a8227afd1d\" data-root-id=\"3245\"></div>\n"
      ]
     },
     "metadata": {},
     "output_type": "display_data"
    },
    {
     "data": {
      "application/javascript": [
       "(function(root) {\n",
       "  function embed_document(root) {\n",
       "    \n",
       "  var docs_json = {\"c37ed93d-bccc-4f9a-83a7-88e79d92d7ae\":{\"defs\":[{\"extends\":null,\"module\":null,\"name\":\"ReactiveHTML1\",\"overrides\":[],\"properties\":[]},{\"extends\":null,\"module\":null,\"name\":\"FlexBox1\",\"overrides\":[],\"properties\":[{\"default\":\"flex-start\",\"kind\":null,\"name\":\"align_content\"},{\"default\":\"flex-start\",\"kind\":null,\"name\":\"align_items\"},{\"default\":\"row\",\"kind\":null,\"name\":\"flex_direction\"},{\"default\":\"wrap\",\"kind\":null,\"name\":\"flex_wrap\"},{\"default\":\"flex-start\",\"kind\":null,\"name\":\"justify_content\"}]},{\"extends\":null,\"module\":null,\"name\":\"TemplateActions1\",\"overrides\":[],\"properties\":[{\"default\":0,\"kind\":null,\"name\":\"open_modal\"},{\"default\":0,\"kind\":null,\"name\":\"close_modal\"}]},{\"extends\":null,\"module\":null,\"name\":\"MaterialTemplateActions1\",\"overrides\":[],\"properties\":[{\"default\":0,\"kind\":null,\"name\":\"open_modal\"},{\"default\":0,\"kind\":null,\"name\":\"close_modal\"}]}],\"roots\":{\"references\":[{\"attributes\":{\"below\":[{\"id\":\"3254\"}],\"center\":[{\"id\":\"3257\"},{\"id\":\"3260\"}],\"frame_height\":100,\"frame_width\":450,\"left\":[{\"id\":\"3258\"}],\"renderers\":[{\"id\":\"3278\"},{\"id\":\"3283\"},{\"id\":\"3288\"},{\"id\":\"3293\"}],\"title\":{\"id\":\"3467\"},\"toolbar\":{\"id\":\"3268\"},\"toolbar_location\":\"above\",\"x_range\":{\"id\":\"3246\"},\"x_scale\":{\"id\":\"3250\"},\"y_range\":{\"id\":\"3248\"},\"y_scale\":{\"id\":\"3252\"}},\"id\":\"3245\",\"subtype\":\"Figure\",\"type\":\"Plot\"},{\"attributes\":{\"data_source\":{\"id\":\"3285\"},\"glyph\":{\"id\":\"3286\"},\"hover_glyph\":null,\"muted_glyph\":null,\"nonselection_glyph\":{\"id\":\"3287\"},\"view\":{\"id\":\"3289\"}},\"id\":\"3288\",\"type\":\"GlyphRenderer\"},{\"attributes\":{},\"id\":\"3473\",\"type\":\"CategoricalTickFormatter\"},{\"attributes\":{},\"id\":\"3261\",\"type\":\"PanTool\"},{\"attributes\":{},\"id\":\"3264\",\"type\":\"SaveTool\"},{\"attributes\":{\"bottom_units\":\"screen\",\"fill_alpha\":0.5,\"fill_color\":\"lightgrey\",\"left_units\":\"screen\",\"level\":\"overlay\",\"line_alpha\":1.0,\"line_color\":\"black\",\"line_dash\":[4,4],\"line_width\":2,\"right_units\":\"screen\",\"syncable\":false,\"top_units\":\"screen\"},\"id\":\"3267\",\"type\":\"BoxAnnotation\"},{\"attributes\":{},\"id\":\"3262\",\"type\":\"WheelZoomTool\"},{\"attributes\":{\"factors\":[\"labeled tubulin\",\"unlabeled tubulin\"]},\"id\":\"3248\",\"type\":\"FactorRange\"},{\"attributes\":{},\"id\":\"3482\",\"type\":\"UnionRenderers\"},{\"attributes\":{\"fill_alpha\":{\"value\":0.1},\"fill_color\":{\"value\":\"#1f77b4\"},\"line_alpha\":{\"value\":0.1},\"line_color\":{\"value\":\"#1f77b4\"},\"size\":{\"value\":5},\"x\":{\"field\":\"x\"},\"y\":{\"field\":\"y\"}},\"id\":\"3287\",\"type\":\"Circle\"},{\"attributes\":{},\"id\":\"3259\",\"type\":\"CategoricalTicker\"},{\"attributes\":{\"fill_color\":{\"value\":\"#1f77b4\"},\"line_color\":{\"value\":\"#1f77b4\"},\"size\":{\"value\":5},\"x\":{\"field\":\"x\"},\"y\":{\"field\":\"y\"}},\"id\":\"3286\",\"type\":\"Circle\"},{\"attributes\":{},\"id\":\"3255\",\"type\":\"BasicTicker\"},{\"attributes\":{\"line_alpha\":0.1,\"line_color\":\"#1f77b4\",\"line_width\":3,\"x\":{\"field\":\"x\"},\"y\":{\"field\":\"y\"}},\"id\":\"3282\",\"type\":\"Line\"},{\"attributes\":{},\"id\":\"3483\",\"type\":\"Selection\"},{\"attributes\":{},\"id\":\"3250\",\"type\":\"LinearScale\"},{\"attributes\":{\"fill_alpha\":{\"value\":0.1},\"fill_color\":{\"value\":\"#1f77b4\"},\"line_alpha\":{\"value\":0.1},\"line_color\":{\"value\":\"#1f77b4\"},\"size\":{\"value\":5},\"x\":{\"field\":\"x\"},\"y\":{\"field\":\"y\"}},\"id\":\"3277\",\"type\":\"Circle\"},{\"attributes\":{},\"id\":\"3266\",\"type\":\"HelpTool\"},{\"attributes\":{\"data\":{\"x\":[412.5263157894737],\"y\":[\"unlabeled tubulin\"]},\"selected\":{\"id\":\"3477\"},\"selection_policy\":{\"id\":\"3476\"}},\"id\":\"3275\",\"type\":\"ColumnDataSource\"},{\"attributes\":{\"active_multi\":null,\"tools\":[{\"id\":\"3261\"},{\"id\":\"3262\"},{\"id\":\"3263\"},{\"id\":\"3264\"},{\"id\":\"3265\"},{\"id\":\"3266\"}]},\"id\":\"3268\",\"type\":\"Toolbar\"},{\"attributes\":{},\"id\":\"3477\",\"type\":\"Selection\"},{\"attributes\":{},\"id\":\"3481\",\"type\":\"Selection\"},{\"attributes\":{\"overlay\":{\"id\":\"3267\"}},\"id\":\"3263\",\"type\":\"BoxZoomTool\"},{\"attributes\":{\"source\":{\"id\":\"3275\"}},\"id\":\"3279\",\"type\":\"CDSView\"},{\"attributes\":{},\"id\":\"3476\",\"type\":\"UnionRenderers\"},{\"attributes\":{},\"id\":\"3474\",\"type\":\"AllLabels\"},{\"attributes\":{\"data\":{\"x\":{\"__ndarray__\":\"r6G8hvIadkDlNZTXUM59QA==\",\"dtype\":\"float64\",\"order\":\"little\",\"shape\":[2]},\"y\":[\"unlabeled tubulin\",\"unlabeled tubulin\"]},\"selected\":{\"id\":\"3479\"},\"selection_policy\":{\"id\":\"3478\"}},\"id\":\"3280\",\"type\":\"ColumnDataSource\"},{\"attributes\":{\"formatter\":{\"id\":\"3473\"},\"major_label_policy\":{\"id\":\"3474\"},\"ticker\":{\"id\":\"3259\"}},\"id\":\"3258\",\"type\":\"CategoricalAxis\"},{\"attributes\":{},\"id\":\"3480\",\"type\":\"UnionRenderers\"},{\"attributes\":{},\"id\":\"3478\",\"type\":\"UnionRenderers\"},{\"attributes\":{\"axis\":{\"id\":\"3254\"},\"ticker\":null},\"id\":\"3257\",\"type\":\"Grid\"},{\"attributes\":{\"line_color\":\"#1f77b4\",\"line_width\":3,\"x\":{\"field\":\"x\"},\"y\":{\"field\":\"y\"}},\"id\":\"3291\",\"type\":\"Line\"},{\"attributes\":{},\"id\":\"3479\",\"type\":\"Selection\"},{\"attributes\":{\"source\":{\"id\":\"3280\"}},\"id\":\"3284\",\"type\":\"CDSView\"},{\"attributes\":{\"formatter\":{\"id\":\"3470\"},\"major_label_policy\":{\"id\":\"3471\"},\"ticker\":{\"id\":\"3255\"}},\"id\":\"3254\",\"type\":\"LinearAxis\"},{\"attributes\":{\"data_source\":{\"id\":\"3275\"},\"glyph\":{\"id\":\"3276\"},\"hover_glyph\":null,\"muted_glyph\":null,\"nonselection_glyph\":{\"id\":\"3277\"},\"view\":{\"id\":\"3279\"}},\"id\":\"3278\",\"type\":\"GlyphRenderer\"},{\"attributes\":{},\"id\":\"3246\",\"type\":\"DataRange1d\"},{\"attributes\":{\"source\":{\"id\":\"3290\"}},\"id\":\"3294\",\"type\":\"CDSView\"},{\"attributes\":{},\"id\":\"3252\",\"type\":\"CategoricalScale\"},{\"attributes\":{\"data_source\":{\"id\":\"3280\"},\"glyph\":{\"id\":\"3281\"},\"hover_glyph\":null,\"muted_glyph\":null,\"nonselection_glyph\":{\"id\":\"3282\"},\"view\":{\"id\":\"3284\"}},\"id\":\"3283\",\"type\":\"GlyphRenderer\"},{\"attributes\":{},\"id\":\"3470\",\"type\":\"BasicTickFormatter\"},{\"attributes\":{\"data\":{\"x\":{\"__ndarray__\":\"6wrN7VQeeUDfmDYBpRh+QA==\",\"dtype\":\"float64\",\"order\":\"little\",\"shape\":[2]},\"y\":[\"labeled tubulin\",\"labeled tubulin\"]},\"selected\":{\"id\":\"3483\"},\"selection_policy\":{\"id\":\"3482\"}},\"id\":\"3290\",\"type\":\"ColumnDataSource\"},{\"attributes\":{},\"id\":\"3265\",\"type\":\"ResetTool\"},{\"attributes\":{\"line_color\":\"#1f77b4\",\"line_width\":3,\"x\":{\"field\":\"x\"},\"y\":{\"field\":\"y\"}},\"id\":\"3281\",\"type\":\"Line\"},{\"attributes\":{},\"id\":\"3467\",\"type\":\"Title\"},{\"attributes\":{\"source\":{\"id\":\"3285\"}},\"id\":\"3289\",\"type\":\"CDSView\"},{\"attributes\":{\"data_source\":{\"id\":\"3290\"},\"glyph\":{\"id\":\"3291\"},\"hover_glyph\":null,\"muted_glyph\":null,\"nonselection_glyph\":{\"id\":\"3292\"},\"view\":{\"id\":\"3294\"}},\"id\":\"3293\",\"type\":\"GlyphRenderer\"},{\"attributes\":{\"data\":{\"x\":[440.71090047393363],\"y\":[\"labeled tubulin\"]},\"selected\":{\"id\":\"3481\"},\"selection_policy\":{\"id\":\"3480\"}},\"id\":\"3285\",\"type\":\"ColumnDataSource\"},{\"attributes\":{},\"id\":\"3471\",\"type\":\"AllLabels\"},{\"attributes\":{\"line_alpha\":0.1,\"line_color\":\"#1f77b4\",\"line_width\":3,\"x\":{\"field\":\"x\"},\"y\":{\"field\":\"y\"}},\"id\":\"3292\",\"type\":\"Line\"},{\"attributes\":{\"axis\":{\"id\":\"3258\"},\"dimension\":1,\"ticker\":null},\"id\":\"3260\",\"type\":\"Grid\"},{\"attributes\":{\"fill_color\":{\"value\":\"#1f77b4\"},\"line_color\":{\"value\":\"#1f77b4\"},\"size\":{\"value\":5},\"x\":{\"field\":\"x\"},\"y\":{\"field\":\"y\"}},\"id\":\"3276\",\"type\":\"Circle\"}],\"root_ids\":[\"3245\"]},\"title\":\"Bokeh Application\",\"version\":\"2.3.3\"}};\n",
       "  var render_items = [{\"docid\":\"c37ed93d-bccc-4f9a-83a7-88e79d92d7ae\",\"root_ids\":[\"3245\"],\"roots\":{\"3245\":\"c8075f35-cc1a-4b5c-9602-d7a8227afd1d\"}}];\n",
       "  root.Bokeh.embed.embed_items_notebook(docs_json, render_items);\n",
       "\n",
       "  }\n",
       "  if (root.Bokeh !== undefined) {\n",
       "    embed_document(root);\n",
       "  } else {\n",
       "    var attempts = 0;\n",
       "    var timer = setInterval(function(root) {\n",
       "      if (root.Bokeh !== undefined) {\n",
       "        clearInterval(timer);\n",
       "        embed_document(root);\n",
       "      } else {\n",
       "        attempts++;\n",
       "        if (attempts > 100) {\n",
       "          clearInterval(timer);\n",
       "          console.log(\"Bokeh: ERROR: Unable to run BokehJS code because BokehJS library is missing\");\n",
       "        }\n",
       "      }\n",
       "    }, 10, root)\n",
       "  }\n",
       "})(window);"
      ],
      "application/vnd.bokehjs_exec.v0+json": ""
     },
     "metadata": {
      "application/vnd.bokehjs_exec.v0+json": {
       "id": "3245"
      }
     },
     "output_type": "display_data"
    }
   ],
   "source": [
    "labeled_mean = labeled_tubulin.mean()\n",
    "unlabeled_mean = unlabeled_tubulin.mean()\n",
    "\n",
    "summaries = [\n",
    "    dict(label = \"unlabeled tubulin\", estimate = unlabeled_mean, \n",
    "         conf_int = unlabeled_mean_conf_int),\n",
    "    dict(label = \"labeled tubulin\", estimate = labeled_mean, \n",
    "         conf_int = labeled_mean_conf_int)\n",
    "]\n",
    "bokeh.io.show(\n",
    "    bebi103.viz.confints(summaries)\n",
    ")"
   ]
  },
  {
   "cell_type": "markdown",
   "id": "b01429da-d9a5-44a7-8c40-a94de772f28c",
   "metadata": {},
   "source": [
    "The confidence intervals of the two categories have significant overlap. This calculation supports the previous conclusion from the ecdf since there is not a clear difference in microtubule performance between labeled and unlabeled samples. <br /> <br />\n",
    "Again, since we are using the confidence intervals to check value overlaps it is worth double checking that our confidence interval generation is appropriate. In this case, we can double check our confidence intervals with a theoretical distribution rather than the empirical distribution. Specifically, we can use the normal distribution by the central limit theorem: \n",
    "\\begin{align}\n",
    "&\\mu = \\bar{x},\\\\[1em]\n",
    "&\\sigma^2 = \\frac{1}{n(n-1)}\\sum_{i=1}^n (x_i - \\bar{x})^2,\n",
    "\\end{align}"
   ]
  },
  {
   "cell_type": "markdown",
   "id": "dd8649d2-4f59-4def-99ed-2dbe3bc5f34b",
   "metadata": {},
   "source": [
    "We define a function to calculate the variance of the data set using this theoretical equation."
   ]
  },
  {
   "cell_type": "code",
   "execution_count": 39,
   "id": "b5bdc13c-23a4-4d1f-8ce7-03052254891c",
   "metadata": {},
   "outputs": [],
   "source": [
    "def calc_variance(data_array):\n",
    "    \"\"\"This function calculates the variance of a 1D data array\"\"\"\n",
    "    n = data_array.size\n",
    "    mean = data_array.mean()\n",
    "    numer = 0\n",
    "    \n",
    "    for i in range(n):\n",
    "        numer += (data_array[i] - mean) ** 2\n",
    "    \n",
    "    denom = n * (n-1)\n",
    "    \n",
    "    return numer/denom"
   ]
  },
  {
   "cell_type": "markdown",
   "id": "2236623e-cb5b-4329-9bdf-6b5701e81d70",
   "metadata": {},
   "source": [
    "Now we perform the calculation and visualize the confidence intervals. "
   ]
  },
  {
   "cell_type": "code",
   "execution_count": 40,
   "id": "871d7b45-09e4-4300-8e0a-e27124b05f39",
   "metadata": {},
   "outputs": [
    {
     "name": "stdout",
     "output_type": "stream",
     "text": [
      "Unlabeled tubulin time to catastrophe(s) confidence interval: [350.84, 474.21]\n",
      "Labeled tubulin time to catastrophe(s) confidence interval: [400.74, 480.68]\n"
     ]
    },
    {
     "data": {
      "text/html": [
       "\n",
       "\n",
       "\n",
       "\n",
       "\n",
       "\n",
       "  <div class=\"bk-root\" id=\"1486e972-2e44-4066-a076-53397521338f\" data-root-id=\"3569\"></div>\n"
      ]
     },
     "metadata": {},
     "output_type": "display_data"
    },
    {
     "data": {
      "application/javascript": [
       "(function(root) {\n",
       "  function embed_document(root) {\n",
       "    \n",
       "  var docs_json = {\"fca88fd5-a13a-42d5-a21f-518d0d115125\":{\"defs\":[{\"extends\":null,\"module\":null,\"name\":\"ReactiveHTML1\",\"overrides\":[],\"properties\":[]},{\"extends\":null,\"module\":null,\"name\":\"FlexBox1\",\"overrides\":[],\"properties\":[{\"default\":\"flex-start\",\"kind\":null,\"name\":\"align_content\"},{\"default\":\"flex-start\",\"kind\":null,\"name\":\"align_items\"},{\"default\":\"row\",\"kind\":null,\"name\":\"flex_direction\"},{\"default\":\"wrap\",\"kind\":null,\"name\":\"flex_wrap\"},{\"default\":\"flex-start\",\"kind\":null,\"name\":\"justify_content\"}]},{\"extends\":null,\"module\":null,\"name\":\"TemplateActions1\",\"overrides\":[],\"properties\":[{\"default\":0,\"kind\":null,\"name\":\"open_modal\"},{\"default\":0,\"kind\":null,\"name\":\"close_modal\"}]},{\"extends\":null,\"module\":null,\"name\":\"MaterialTemplateActions1\",\"overrides\":[],\"properties\":[{\"default\":0,\"kind\":null,\"name\":\"open_modal\"},{\"default\":0,\"kind\":null,\"name\":\"close_modal\"}]}],\"roots\":{\"references\":[{\"attributes\":{\"below\":[{\"id\":\"3578\"}],\"center\":[{\"id\":\"3581\"},{\"id\":\"3584\"}],\"frame_height\":100,\"frame_width\":450,\"left\":[{\"id\":\"3582\"}],\"renderers\":[{\"id\":\"3602\"},{\"id\":\"3607\"},{\"id\":\"3612\"},{\"id\":\"3617\"}],\"title\":{\"id\":\"3808\"},\"toolbar\":{\"id\":\"3592\"},\"toolbar_location\":\"above\",\"x_range\":{\"id\":\"3570\"},\"x_scale\":{\"id\":\"3574\"},\"y_range\":{\"id\":\"3572\"},\"y_scale\":{\"id\":\"3576\"}},\"id\":\"3569\",\"subtype\":\"Figure\",\"type\":\"Plot\"},{\"attributes\":{\"data\":{\"x\":[350.83955128865745,474.21308029028995],\"y\":[\"unlabeled tubulin\",\"unlabeled tubulin\"]},\"selected\":{\"id\":\"3820\"},\"selection_policy\":{\"id\":\"3819\"}},\"id\":\"3604\",\"type\":\"ColumnDataSource\"},{\"attributes\":{\"data_source\":{\"id\":\"3604\"},\"glyph\":{\"id\":\"3605\"},\"hover_glyph\":null,\"muted_glyph\":null,\"nonselection_glyph\":{\"id\":\"3606\"},\"view\":{\"id\":\"3608\"}},\"id\":\"3607\",\"type\":\"GlyphRenderer\"},{\"attributes\":{\"source\":{\"id\":\"3609\"}},\"id\":\"3613\",\"type\":\"CDSView\"},{\"attributes\":{\"data_source\":{\"id\":\"3599\"},\"glyph\":{\"id\":\"3600\"},\"hover_glyph\":null,\"muted_glyph\":null,\"nonselection_glyph\":{\"id\":\"3601\"},\"view\":{\"id\":\"3603\"}},\"id\":\"3602\",\"type\":\"GlyphRenderer\"},{\"attributes\":{\"source\":{\"id\":\"3599\"}},\"id\":\"3603\",\"type\":\"CDSView\"},{\"attributes\":{\"source\":{\"id\":\"3604\"}},\"id\":\"3608\",\"type\":\"CDSView\"},{\"attributes\":{\"line_color\":\"#1f77b4\",\"line_width\":3,\"x\":{\"field\":\"x\"},\"y\":{\"field\":\"y\"}},\"id\":\"3605\",\"type\":\"Line\"},{\"attributes\":{\"data\":{\"x\":[440.71090047393363],\"y\":[\"labeled tubulin\"]},\"selected\":{\"id\":\"3822\"},\"selection_policy\":{\"id\":\"3821\"}},\"id\":\"3609\",\"type\":\"ColumnDataSource\"},{\"attributes\":{},\"id\":\"3817\",\"type\":\"UnionRenderers\"},{\"attributes\":{\"line_alpha\":0.1,\"line_color\":\"#1f77b4\",\"line_width\":3,\"x\":{\"field\":\"x\"},\"y\":{\"field\":\"y\"}},\"id\":\"3606\",\"type\":\"Line\"},{\"attributes\":{},\"id\":\"3570\",\"type\":\"DataRange1d\"},{\"attributes\":{},\"id\":\"3818\",\"type\":\"Selection\"},{\"attributes\":{\"fill_alpha\":{\"value\":0.1},\"fill_color\":{\"value\":\"#1f77b4\"},\"line_alpha\":{\"value\":0.1},\"line_color\":{\"value\":\"#1f77b4\"},\"size\":{\"value\":5},\"x\":{\"field\":\"x\"},\"y\":{\"field\":\"y\"}},\"id\":\"3611\",\"type\":\"Circle\"},{\"attributes\":{\"fill_color\":{\"value\":\"#1f77b4\"},\"line_color\":{\"value\":\"#1f77b4\"},\"size\":{\"value\":5},\"x\":{\"field\":\"x\"},\"y\":{\"field\":\"y\"}},\"id\":\"3610\",\"type\":\"Circle\"},{\"attributes\":{},\"id\":\"3823\",\"type\":\"UnionRenderers\"},{\"attributes\":{\"data_source\":{\"id\":\"3609\"},\"glyph\":{\"id\":\"3610\"},\"hover_glyph\":null,\"muted_glyph\":null,\"nonselection_glyph\":{\"id\":\"3611\"},\"view\":{\"id\":\"3613\"}},\"id\":\"3612\",\"type\":\"GlyphRenderer\"},{\"attributes\":{\"line_color\":\"#1f77b4\",\"line_width\":3,\"x\":{\"field\":\"x\"},\"y\":{\"field\":\"y\"}},\"id\":\"3615\",\"type\":\"Line\"},{\"attributes\":{\"source\":{\"id\":\"3614\"}},\"id\":\"3618\",\"type\":\"CDSView\"},{\"attributes\":{\"bottom_units\":\"screen\",\"fill_alpha\":0.5,\"fill_color\":\"lightgrey\",\"left_units\":\"screen\",\"level\":\"overlay\",\"line_alpha\":1.0,\"line_color\":\"black\",\"line_dash\":[4,4],\"line_width\":2,\"right_units\":\"screen\",\"syncable\":false,\"top_units\":\"screen\"},\"id\":\"3591\",\"type\":\"BoxAnnotation\"},{\"attributes\":{},\"id\":\"3824\",\"type\":\"Selection\"},{\"attributes\":{\"data_source\":{\"id\":\"3614\"},\"glyph\":{\"id\":\"3615\"},\"hover_glyph\":null,\"muted_glyph\":null,\"nonselection_glyph\":{\"id\":\"3616\"},\"view\":{\"id\":\"3618\"}},\"id\":\"3617\",\"type\":\"GlyphRenderer\"},{\"attributes\":{\"data\":{\"x\":[400.74119602394774,480.68060492391953],\"y\":[\"labeled tubulin\",\"labeled tubulin\"]},\"selected\":{\"id\":\"3824\"},\"selection_policy\":{\"id\":\"3823\"}},\"id\":\"3614\",\"type\":\"ColumnDataSource\"},{\"attributes\":{\"line_alpha\":0.1,\"line_color\":\"#1f77b4\",\"line_width\":3,\"x\":{\"field\":\"x\"},\"y\":{\"field\":\"y\"}},\"id\":\"3616\",\"type\":\"Line\"},{\"attributes\":{},\"id\":\"3821\",\"type\":\"UnionRenderers\"},{\"attributes\":{\"formatter\":{\"id\":\"3811\"},\"major_label_policy\":{\"id\":\"3812\"},\"ticker\":{\"id\":\"3579\"}},\"id\":\"3578\",\"type\":\"LinearAxis\"},{\"attributes\":{},\"id\":\"3808\",\"type\":\"Title\"},{\"attributes\":{},\"id\":\"3576\",\"type\":\"CategoricalScale\"},{\"attributes\":{},\"id\":\"3819\",\"type\":\"UnionRenderers\"},{\"attributes\":{},\"id\":\"3590\",\"type\":\"HelpTool\"},{\"attributes\":{},\"id\":\"3574\",\"type\":\"LinearScale\"},{\"attributes\":{\"formatter\":{\"id\":\"3814\"},\"major_label_policy\":{\"id\":\"3815\"},\"ticker\":{\"id\":\"3583\"}},\"id\":\"3582\",\"type\":\"CategoricalAxis\"},{\"attributes\":{\"axis\":{\"id\":\"3578\"},\"ticker\":null},\"id\":\"3581\",\"type\":\"Grid\"},{\"attributes\":{},\"id\":\"3820\",\"type\":\"Selection\"},{\"attributes\":{\"factors\":[\"labeled tubulin\",\"unlabeled tubulin\"]},\"id\":\"3572\",\"type\":\"FactorRange\"},{\"attributes\":{},\"id\":\"3579\",\"type\":\"BasicTicker\"},{\"attributes\":{},\"id\":\"3822\",\"type\":\"Selection\"},{\"attributes\":{},\"id\":\"3811\",\"type\":\"BasicTickFormatter\"},{\"attributes\":{\"active_multi\":null,\"tools\":[{\"id\":\"3585\"},{\"id\":\"3586\"},{\"id\":\"3587\"},{\"id\":\"3588\"},{\"id\":\"3589\"},{\"id\":\"3590\"}]},\"id\":\"3592\",\"type\":\"Toolbar\"},{\"attributes\":{},\"id\":\"3812\",\"type\":\"AllLabels\"},{\"attributes\":{\"axis\":{\"id\":\"3582\"},\"dimension\":1,\"ticker\":null},\"id\":\"3584\",\"type\":\"Grid\"},{\"attributes\":{},\"id\":\"3583\",\"type\":\"CategoricalTicker\"},{\"attributes\":{\"fill_color\":{\"value\":\"#1f77b4\"},\"line_color\":{\"value\":\"#1f77b4\"},\"size\":{\"value\":5},\"x\":{\"field\":\"x\"},\"y\":{\"field\":\"y\"}},\"id\":\"3600\",\"type\":\"Circle\"},{\"attributes\":{},\"id\":\"3814\",\"type\":\"CategoricalTickFormatter\"},{\"attributes\":{\"fill_alpha\":{\"value\":0.1},\"fill_color\":{\"value\":\"#1f77b4\"},\"line_alpha\":{\"value\":0.1},\"line_color\":{\"value\":\"#1f77b4\"},\"size\":{\"value\":5},\"x\":{\"field\":\"x\"},\"y\":{\"field\":\"y\"}},\"id\":\"3601\",\"type\":\"Circle\"},{\"attributes\":{},\"id\":\"3815\",\"type\":\"AllLabels\"},{\"attributes\":{},\"id\":\"3586\",\"type\":\"WheelZoomTool\"},{\"attributes\":{},\"id\":\"3585\",\"type\":\"PanTool\"},{\"attributes\":{\"overlay\":{\"id\":\"3591\"}},\"id\":\"3587\",\"type\":\"BoxZoomTool\"},{\"attributes\":{},\"id\":\"3588\",\"type\":\"SaveTool\"},{\"attributes\":{\"data\":{\"x\":[412.5263157894737],\"y\":[\"unlabeled tubulin\"]},\"selected\":{\"id\":\"3818\"},\"selection_policy\":{\"id\":\"3817\"}},\"id\":\"3599\",\"type\":\"ColumnDataSource\"},{\"attributes\":{},\"id\":\"3589\",\"type\":\"ResetTool\"}],\"root_ids\":[\"3569\"]},\"title\":\"Bokeh Application\",\"version\":\"2.3.3\"}};\n",
       "  var render_items = [{\"docid\":\"fca88fd5-a13a-42d5-a21f-518d0d115125\",\"root_ids\":[\"3569\"],\"roots\":{\"3569\":\"1486e972-2e44-4066-a076-53397521338f\"}}];\n",
       "  root.Bokeh.embed.embed_items_notebook(docs_json, render_items);\n",
       "\n",
       "  }\n",
       "  if (root.Bokeh !== undefined) {\n",
       "    embed_document(root);\n",
       "  } else {\n",
       "    var attempts = 0;\n",
       "    var timer = setInterval(function(root) {\n",
       "      if (root.Bokeh !== undefined) {\n",
       "        clearInterval(timer);\n",
       "        embed_document(root);\n",
       "      } else {\n",
       "        attempts++;\n",
       "        if (attempts > 100) {\n",
       "          clearInterval(timer);\n",
       "          console.log(\"Bokeh: ERROR: Unable to run BokehJS code because BokehJS library is missing\");\n",
       "        }\n",
       "      }\n",
       "    }, 10, root)\n",
       "  }\n",
       "})(window);"
      ],
      "application/vnd.bokehjs_exec.v0+json": ""
     },
     "metadata": {
      "application/vnd.bokehjs_exec.v0+json": {
       "id": "3569"
      }
     },
     "output_type": "display_data"
    }
   ],
   "source": [
    "unlabeled_variance = calc_variance(unlabeled_tubulin)\n",
    "labeled_variance = calc_variance(labeled_tubulin)\n",
    "\n",
    "labeled_conf1 = st.norm.ppf(0.025, loc=labeled_mean, scale=np.sqrt(labeled_variance))\n",
    "labeled_conf2 = st.norm.ppf(0.975, loc=labeled_mean, scale=np.sqrt(labeled_variance))\n",
    "\n",
    "unlabeled_conf1 = st.norm.ppf(0.025, loc=unlabeled_mean, scale=np.sqrt(unlabeled_variance))\n",
    "unlabeled_conf2 = st.norm.ppf(0.975, loc=unlabeled_mean, scale=np.sqrt(unlabeled_variance))\n",
    "\n",
    "print(f\"Unlabeled tubulin time to catastrophe(s) confidence interval: [{unlabeled_conf1:.2f}, {unlabeled_conf2:.2f}]\")\n",
    "print(f\"Labeled tubulin time to catastrophe(s) confidence interval: [{labeled_conf1:.2f}, {labeled_conf2:.2f}]\")\n",
    "\n",
    "summaries = [\n",
    "    dict(label = \"unlabeled tubulin\", estimate = unlabeled_mean, \n",
    "         conf_int = [unlabeled_conf1, unlabeled_conf2]),\n",
    "    dict(label = \"labeled tubulin\", estimate = labeled_mean, \n",
    "         conf_int = [labeled_conf1, labeled_conf2])\n",
    "]\n",
    "bokeh.io.show(\n",
    "    bebi103.viz.confints(summaries)\n",
    ")"
   ]
  },
  {
   "cell_type": "markdown",
   "id": "3cff2a97-c2c0-406a-b1e7-f2e365233b5e",
   "metadata": {},
   "source": [
    "When comparing the confidence interval calculation from the theoretical distribution to the confidence interval derived from the empirical distribution, we can see that the confidence intervals are very similar. Again, there does not seem to be a significant difference between the times to catastrophe between the unlabeled and labeled tubulin."
   ]
  },
  {
   "cell_type": "markdown",
   "id": "43722f99-18fe-4cda-a261-2d37fa431fd0",
   "metadata": {},
   "source": [
    "### 3. Hypothesis testing assuming identical distributions ###\n",
    "Next, we use a permutation hypothesis test to test the hypothesis that the distribution of catastrophe times for microtubules with labeled tubulin is the same as that for unlabeled tubulin."
   ]
  },
  {
   "cell_type": "markdown",
   "id": "864fffbf-d994-406a-aa9e-26deaf996ca1",
   "metadata": {
    "tags": []
   },
   "source": [
    "#### Step 1: State the null hypothesis.\n",
    "> The null hypothesis is that the time to catastrophe for labeled and unlabeled tubulin are identically distributed."
   ]
  },
  {
   "cell_type": "markdown",
   "id": "ec7a5eb7-2824-4244-bf94-8981207d8218",
   "metadata": {},
   "source": [
    "#### Step 2: Define a test statistic.\n",
    "> For our first NHST experiment, the test statistic that will be used is difference in means. This test statistic will offer a good comparison to results acquired in part a and b, when we compared the confidence intervals of the means of the two categories. <br /> <br />\n",
    "> For our second NHST experiment, the test statistic that will be used is difference in variance. Time to catastrophe can be modeled by a combination of exponential processes (as shown in HW6), and we know that we can get a normal approximation of the distribution using the equating moments or taylor expansion method. Since a normal distribution can be described by the mean and variance, we decided to also compare the difference of variance as a test statistic since we are interested in the question of if the labeled and unlabeled tubulin time to catastrophe come from the same distribution.  <br /> <br />\n",
    "> For our third NHST experiment, the test statistic that will be used is difference in medians. We decided to conduct this test to compare a different parameter that can describe a distribution to offer more information about if the two categories come from the same distribution. This was mainly done out of curiosity."
   ]
  },
  {
   "cell_type": "markdown",
   "id": "03867df2-d2c8-40fb-9fa2-f671bc3985e2",
   "metadata": {},
   "source": [
    "#### Step 3: Simulate data acquisition for the scenario where the null hypothesis is true, many many times."
   ]
  },
  {
   "cell_type": "markdown",
   "id": "91141752-097e-422a-b458-15793aad5b4d",
   "metadata": {},
   "source": [
    "> We will concatenate the two data sets, randomly shuffle them, designate the first entries in the shuffled array to be a “labeled” data set and the rest to be a “unlabeled” data set. Our null hypothesis posits that both the labeled and unlabeled tubulin catastrophe times come from the same distribution, so our concatenated data set will include all points from both categories."
   ]
  },
  {
   "cell_type": "code",
   "execution_count": 41,
   "id": "826b7794-95d4-4a1b-a4c4-172a0a600309",
   "metadata": {},
   "outputs": [],
   "source": [
    "@numba.njit\n",
    "def generate_perm_sample(x, y):\n",
    "    \"\"\"Generate a permutation sample.\"\"\"\n",
    "    combined_data = np.concatenate((x, y))\n",
    "    np.random.shuffle(combined_data)\n",
    "    half_index = int(combined_data.size / 2)\n",
    "\n",
    "    return combined_data[:half_index], combined_data[half_index:]"
   ]
  },
  {
   "cell_type": "markdown",
   "id": "ce85ec54-a25d-4a7a-af05-9bf35468c81f",
   "metadata": {},
   "source": [
    "#### Step 4a: (NHST Experiment 1) Compute the p-value (the fraction of simulations for which the test statistic (diff in mean) is at least as extreme as the test statistic computed from the measured data). Do this 10 million times."
   ]
  },
  {
   "cell_type": "code",
   "execution_count": 42,
   "id": "0c552b64-eb45-4f1d-bd07-024ebcc504bd",
   "metadata": {},
   "outputs": [
    {
     "name": "stdout",
     "output_type": "stream",
     "text": [
      "NHST experiment 1: Difference in mean p-value = 0.2058407\n"
     ]
    }
   ],
   "source": [
    "@numba.njit\n",
    "def generate_perm_reps_diff_mean(x, y, N):\n",
    "    \"\"\"Generate array of permuation replicates.\"\"\"\n",
    "    out = np.empty(N)\n",
    "    for i in range(N):\n",
    "        x_perm, y_perm = generate_perm_sample(x, y)\n",
    "        out[i] = np.mean(x_perm) - np.mean(y_perm)\n",
    "\n",
    "    return out\n",
    "\n",
    "# Compute test statistic for original data set\n",
    "diff_mean = np.mean(labeled_tubulin) - np.mean(unlabeled_tubulin)\n",
    "\n",
    "# Draw replicates\n",
    "perm_reps = generate_perm_reps_diff_mean(labeled_tubulin, unlabeled_tubulin, 10000000)\n",
    "\n",
    "# Compute p-value\n",
    "p_val = np.sum(perm_reps >= diff_mean) / len(perm_reps)\n",
    "\n",
    "print('NHST experiment 1: Difference in mean p-value =', p_val)"
   ]
  },
  {
   "cell_type": "markdown",
   "id": "66e16961-5289-4cd1-b80b-aa6051e94f00",
   "metadata": {},
   "source": [
    "#### Step 4b: (NHST Experiment 2) Compute the p-value (the fraction of simulations for which the test statistic (diff in variance) is at least as extreme as the test statistic computed from the measured data). Do this 10 million times."
   ]
  },
  {
   "cell_type": "code",
   "execution_count": 43,
   "id": "a3a9a82b-f8fb-408e-b72a-834c415211fb",
   "metadata": {},
   "outputs": [
    {
     "name": "stdout",
     "output_type": "stream",
     "text": [
      "NHST experiment 2: Difference in variance p-value = 0.5942287\n"
     ]
    }
   ],
   "source": [
    "@numba.njit\n",
    "def generate_perm_reps_diff_variance(x, y, N):\n",
    "    \"\"\"Generate array of permuation replicates.\"\"\"\n",
    "    out = np.empty(N)\n",
    "    for i in range(N):\n",
    "        x_perm, y_perm = generate_perm_sample(x, y)\n",
    "        out[i] = np.var(x_perm) - np.var(y_perm)\n",
    "\n",
    "    return out\n",
    "\n",
    "# Compute test statistic for original data set\n",
    "diff_variance = np.var(labeled_tubulin) - np.var(unlabeled_tubulin)\n",
    "\n",
    "# Draw replicates\n",
    "perm_reps = generate_perm_reps_diff_variance(labeled_tubulin, unlabeled_tubulin, 10000000)\n",
    "\n",
    "# Compute p-value\n",
    "p_val = np.sum(perm_reps >= diff_variance) / len(perm_reps)\n",
    "\n",
    "print('NHST experiment 2: Difference in variance p-value =', p_val)"
   ]
  },
  {
   "cell_type": "markdown",
   "id": "1860b9d7-931c-4a47-9d2e-723f58617792",
   "metadata": {},
   "source": [
    "#### Step 4c: (NHST Experiment 3) Compute the p-value (the fraction of simulations for which the test statistic (diff in median) is at least as extreme as the test statistic computed from the measured data). Do this 10 million times."
   ]
  },
  {
   "cell_type": "code",
   "execution_count": 44,
   "id": "cd90b50c-ec80-44c5-897c-cde766031ad7",
   "metadata": {},
   "outputs": [
    {
     "name": "stdout",
     "output_type": "stream",
     "text": [
      "NHST experiment 3: Difference in median p-value = 0.4767821\n"
     ]
    }
   ],
   "source": [
    "@numba.njit\n",
    "def generate_perm_reps_diff_median(x, y, N):\n",
    "    \"\"\"Generate array of permuation replicates.\"\"\"\n",
    "    out = np.empty(N)\n",
    "    for i in range(N):\n",
    "        x_perm, y_perm = generate_perm_sample(x, y)\n",
    "        out[i] = np.median(x_perm) - np.median(y_perm)\n",
    "\n",
    "    return out\n",
    "\n",
    "# Compute test statistic for original data set\n",
    "diff_median = np.median(labeled_tubulin) - np.median(unlabeled_tubulin)\n",
    "\n",
    "# Draw replicates\n",
    "perm_reps = generate_perm_reps_diff_median(labeled_tubulin, unlabeled_tubulin, 10000000)\n",
    "\n",
    "# Compute p-value\n",
    "p_val = np.sum(perm_reps >= diff_median) / len(perm_reps)\n",
    "\n",
    "print('NHST experiment 3: Difference in median p-value =', p_val)"
   ]
  },
  {
   "cell_type": "markdown",
   "id": "15ab47f6-5c4f-44fd-bc5e-eff68e452b76",
   "metadata": {},
   "source": [
    "The p-value is 0.21 where the test statistic is the difference in means. <br />\n",
    "The p-value is 0.59 where the test statistic is the difference in variance. <br />\n",
    "The p-value is 0.48 where the test statistic is the difference in medians. <br />\n",
    "This means that the probability of getting a difference of means, variances, and medians, respectively, as extreme as was observed under the null hypothesis is relatively high (the null hypothesis being that the control and test samples were drawn from identical distribution). Although this result does not confirm that we can reject the null hypothesis (p-value does not represent the probability that a given hypothesis is \"true\"), it supports the findings in the previous sections where we do not observe a strong influence of fluorescent markers on microtubule performance. "
   ]
  },
  {
   "cell_type": "code",
   "execution_count": null,
   "id": "33bbc8eb-612c-49f5-a81b-7b0b44ec3829",
   "metadata": {},
   "outputs": [],
   "source": []
  }
 ],
 "metadata": {
  "kernelspec": {
   "display_name": "Python 3 (ipykernel)",
   "language": "python",
   "name": "python3"
  },
  "language_info": {
   "codemirror_mode": {
    "name": "ipython",
    "version": 3
   },
   "file_extension": ".py",
   "mimetype": "text/x-python",
   "name": "python",
   "nbconvert_exporter": "python",
   "pygments_lexer": "ipython3",
   "version": "3.8.11"
  }
 },
 "nbformat": 4,
 "nbformat_minor": 5
}
