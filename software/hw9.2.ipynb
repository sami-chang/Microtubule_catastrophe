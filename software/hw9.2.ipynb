{
 "cells": [
  {
   "cell_type": "markdown",
   "metadata": {},
   "source": [
    "# Homework 9.2: MLE of microtubule catastrophe data (40 pts)\n",
    "\n",
    "[Dataset download](https://s3.amazonaws.com/bebi103.caltech.edu/data/gardner_time_to_catastrophe_dic_tidy.csv)\n",
    "\n",
    "<hr>"
   ]
  },
  {
   "cell_type": "markdown",
   "metadata": {},
   "source": [
    "Refresh yourself about the microtubule catastrophe data we explored in previous homeworks. We will again work with this data set here.\n",
    "\n",
    "**a)** In their [paper](http://dx.doi.org/10.1016/j.cell.2011.10.037), Gardner, Zanic, and coworkers modeled microtubule catastrophe times as Gamma distributed. Perform a maximum likelihood estimate for the parameters of the Gamma distribution. Because you showed in a previous homework that there is little difference between labeled and unlabeled tubulin, you only need to work this out for the labeled tubulin now and in part (b). Be sure to include confidence intervals or a confidence region for your MLE and discuss the method you used to get the confidence intervals or confidence region.\n"
   ]
  },
  {
   "cell_type": "code",
   "execution_count": 1,
   "metadata": {},
   "outputs": [
    {
     "data": {
      "text/html": [
       "<div>\n",
       "<style scoped>\n",
       "    .dataframe tbody tr th:only-of-type {\n",
       "        vertical-align: middle;\n",
       "    }\n",
       "\n",
       "    .dataframe tbody tr th {\n",
       "        vertical-align: top;\n",
       "    }\n",
       "\n",
       "    .dataframe thead th {\n",
       "        text-align: right;\n",
       "    }\n",
       "</style>\n",
       "<table border=\"1\" class=\"dataframe\">\n",
       "  <thead>\n",
       "    <tr style=\"text-align: right;\">\n",
       "      <th></th>\n",
       "      <th>Unnamed: 0</th>\n",
       "      <th>time to catastrophe (s)</th>\n",
       "      <th>labeled</th>\n",
       "    </tr>\n",
       "  </thead>\n",
       "  <tbody>\n",
       "    <tr>\n",
       "      <th>0</th>\n",
       "      <td>0</td>\n",
       "      <td>470.0</td>\n",
       "      <td>True</td>\n",
       "    </tr>\n",
       "    <tr>\n",
       "      <th>1</th>\n",
       "      <td>1</td>\n",
       "      <td>1415.0</td>\n",
       "      <td>True</td>\n",
       "    </tr>\n",
       "    <tr>\n",
       "      <th>2</th>\n",
       "      <td>2</td>\n",
       "      <td>130.0</td>\n",
       "      <td>True</td>\n",
       "    </tr>\n",
       "    <tr>\n",
       "      <th>3</th>\n",
       "      <td>3</td>\n",
       "      <td>280.0</td>\n",
       "      <td>True</td>\n",
       "    </tr>\n",
       "    <tr>\n",
       "      <th>4</th>\n",
       "      <td>4</td>\n",
       "      <td>550.0</td>\n",
       "      <td>True</td>\n",
       "    </tr>\n",
       "    <tr>\n",
       "      <th>...</th>\n",
       "      <td>...</td>\n",
       "      <td>...</td>\n",
       "      <td>...</td>\n",
       "    </tr>\n",
       "    <tr>\n",
       "      <th>301</th>\n",
       "      <td>301</td>\n",
       "      <td>180.0</td>\n",
       "      <td>False</td>\n",
       "    </tr>\n",
       "    <tr>\n",
       "      <th>302</th>\n",
       "      <td>302</td>\n",
       "      <td>145.0</td>\n",
       "      <td>False</td>\n",
       "    </tr>\n",
       "    <tr>\n",
       "      <th>303</th>\n",
       "      <td>303</td>\n",
       "      <td>745.0</td>\n",
       "      <td>False</td>\n",
       "    </tr>\n",
       "    <tr>\n",
       "      <th>304</th>\n",
       "      <td>304</td>\n",
       "      <td>390.0</td>\n",
       "      <td>False</td>\n",
       "    </tr>\n",
       "    <tr>\n",
       "      <th>305</th>\n",
       "      <td>305</td>\n",
       "      <td>1410.0</td>\n",
       "      <td>False</td>\n",
       "    </tr>\n",
       "  </tbody>\n",
       "</table>\n",
       "<p>306 rows × 3 columns</p>\n",
       "</div>"
      ],
      "text/plain": [
       "     Unnamed: 0  time to catastrophe (s)  labeled\n",
       "0             0                    470.0     True\n",
       "1             1                   1415.0     True\n",
       "2             2                    130.0     True\n",
       "3             3                    280.0     True\n",
       "4             4                    550.0     True\n",
       "..          ...                      ...      ...\n",
       "301         301                    180.0    False\n",
       "302         302                    145.0    False\n",
       "303         303                    745.0    False\n",
       "304         304                    390.0    False\n",
       "305         305                   1410.0    False\n",
       "\n",
       "[306 rows x 3 columns]"
      ]
     },
     "execution_count": 1,
     "metadata": {},
     "output_type": "execute_result"
    }
   ],
   "source": [
    "import numpy as np\n",
    "import pandas as pd\n",
    "import os\n",
    "import scipy \n",
    "import scipy.optimize\n",
    "import scipy.stats as st\n",
    "import tqdm\n",
    "import math\n",
    "\n",
    "rg = np.random.default_rng()\n",
    "\n",
    "data_path = \"../data\"\n",
    "fname = os.path.join(data_path, \"gardner_time_to_catastrophe_dic_tidy.csv\")\n",
    "df = pd.read_csv(fname)\n",
    "df"
   ]
  },
  {
   "cell_type": "markdown",
   "metadata": {},
   "source": [
    "We made a separate dataframe for the data labeled \"True\", and obtained the time stamps of those labeled \"True\"."
   ]
  },
  {
   "cell_type": "code",
   "execution_count": 2,
   "metadata": {},
   "outputs": [],
   "source": [
    "df_true = df[df[\"labeled\"] == True]\n",
    "true_time = df_true[\"time to catastrophe (s)\"].values"
   ]
  },
  {
   "cell_type": "markdown",
   "metadata": {},
   "source": [
    "Now, we defined the bootstrap to return us alpha and beta."
   ]
  },
  {
   "cell_type": "code",
   "execution_count": 3,
   "metadata": {},
   "outputs": [],
   "source": [
    "def bootstrap_param(data, size=1):\n",
    "    \"\"\"Parametric bootstrap replicates of parameters of\n",
    "    Normal distribution.\"\"\"\n",
    "    bs_mean = np.empty(size)\n",
    "    bs_sd = np.empty(size)\n",
    "    bs_alpha = np.empty(size)\n",
    "    bs_beta = np.empty(size)\n",
    "\n",
    "    for i in range(size):\n",
    "        bs_sample = np.random.choice(data, size=len(data))\n",
    "        bs_mean[i] = np.mean(bs_sample)\n",
    "        bs_sd[i] = np.std(bs_sample)\n",
    "        # Since the mean of the gamma distribution is alpha/beta, and variance is alpha/beta^2, mean/var = beta.\n",
    "        bs_beta[i] = bs_mean[i]/(bs_sd[i]**2)\n",
    "        # With the beta value, we solve for alpha by just saying beta * mean = alpha.\n",
    "        bs_alpha[i] = bs_beta[i] * bs_mean[i]\n",
    "\n",
    "\n",
    "    return bs_alpha, bs_beta"
   ]
  },
  {
   "cell_type": "markdown",
   "metadata": {},
   "source": [
    "We run the bootstrap for our \"True\" time stamps."
   ]
  },
  {
   "cell_type": "code",
   "execution_count": 4,
   "metadata": {},
   "outputs": [
    {
     "data": {
      "text/plain": [
       "array([2.42338039, 2.50186784, 2.05350071, ..., 2.35151568, 2.06215175,\n",
       "       2.1495506 ])"
      ]
     },
     "execution_count": 4,
     "metadata": {},
     "output_type": "execute_result"
    }
   ],
   "source": [
    "bs_alpha_true, bs_beta_true = bootstrap_param(\n",
    "    true_time, size=100000\n",
    ")\n",
    "\n",
    "bs_alpha_true"
   ]
  },
  {
   "cell_type": "markdown",
   "metadata": {},
   "source": [
    "We can obtain the alpha and beta values as an expression of the mean and variance."
   ]
  },
  {
   "cell_type": "code",
   "execution_count": 5,
   "metadata": {},
   "outputs": [
    {
     "name": "stdout",
     "output_type": "stream",
     "text": [
      "2.2239376038081673 0.005046250504393196\n"
     ]
    }
   ],
   "source": [
    "mean_true = np.mean(true_time)\n",
    "var_true = np.var(true_time)\n",
    "\n",
    "# Since the mean of the gamma distribution is alpha/beta, and variance is alpha/beta^2, mean/var = beta.\n",
    "beta_true = mean_true / var_true\n",
    "\n",
    "# With the beta value, we solve for alpha by just saying beta * mean = alpha.\n",
    "alpha_true = beta_true * mean_true\n",
    "print(alpha_true, beta_true)"
   ]
  },
  {
   "cell_type": "code",
   "execution_count": 6,
   "metadata": {},
   "outputs": [
    {
     "name": "stdout",
     "output_type": "stream",
     "text": [
      "α: 2.2670 | 95% conf int α: [1.82320381 2.82034726]\n",
      "β2: 0.0052 | 95% conf int β2: [0.00406756 0.00656671]\n"
     ]
    }
   ],
   "source": [
    "print('α: {:.4f} | 95% conf int α: {}'.format(np.mean(bs_alpha_true),str(np.percentile(bs_alpha_true, [2.5, 97.5]))))\n",
    "print('β2: {:.4f} | 95% conf int β2: {}'.format(np.mean(bs_beta_true),str(np.percentile(bs_beta_true, [2.5, 97.5]))))"
   ]
  },
  {
   "cell_type": "markdown",
   "metadata": {},
   "source": [
    "As the values of the parameters alpha and beta do not overlap, and fall inside the 95% confidence interval for the labeled microtubules, we can reasonably assume that the MLE value we have obtained for the Gamma distribution is reasonable."
   ]
  },
  {
   "cell_type": "markdown",
   "metadata": {},
   "source": [
    "**b)** Obtain a maximum likelihood estimate for the parameters $\\beta_1$ and $\\beta_2$ from the model you derived in homework 5.2. As a reminder, you derived that the PDF for microtubule catastrophe times is\n",
    "\n",
    "$$\\begin{align}\n",
    "f(t;\\beta_1, \\beta_2) = \\frac{\\beta_1\\beta_2}{\\beta_2 - \\beta_1}\\left(\\mathrm{e}^{-\\beta_1 t} - \\mathrm{e}^{-\\beta_2 t}\\right).\n",
    "\\end{align}$$\n",
    "\n",
    "Again, include confidence intervals. **Be careful**; this is a *very* tricky calculation. It is possible to analytically compute the MLE. If you choose to do it numerically, you need to think about what happens when $\\beta_1 \\approx \\beta_2$. You may also need to think about how you will handle the [log of sums of exponentials](https://en.wikipedia.org/wiki/LogSumExp)."
   ]
  },
  {
   "cell_type": "markdown",
   "metadata": {},
   "source": [
    "$$\\begin{align}\\tag{1}\n",
    "f(t;\\beta_1, \\beta_2) = \\frac{\\beta_1 \\beta_2}{\\beta_2 - \\beta_1}\\left(\\mathrm{e}^{-\\beta_1 t} - \\mathrm{e}^{-\\beta_2 t}\\right)\n",
    "\\end{align}$$\n",
    "\n",
    "$$\\begin{align}\\tag{2}\n",
    "L(t;\\beta_1, \\beta_2)= \\ln{f(t;\\beta_1, \\beta_2)} = \\ln{\\left(\\beta_1\\beta_2\\right)} - \\ln{\\left(\\beta_2-\\beta_1\\right)}+\\ln{\\left(\\mathrm{e}^{-\\beta_1 t} - \\mathrm{e}^{-\\beta_2 t}\\right)}\n",
    "\\end{align}$$\n",
    "\n",
    "Our third term is the log of sum of exponentials, and we can change this term to:\n",
    "\n",
    "$$\\begin{align}\\tag{3}\n",
    "y = \\ln{\\left(\\mathrm{e}^{-\\beta_1 t} - \\mathrm{e}^{-\\beta_2 t}\\right)}\\\\\n",
    "\\Leftrightarrow \\mathrm{e}^{y} = \\sum_{i=1}^{n}\\mathrm{e}^{x_{i}}\\\\\n",
    "\\Leftrightarrow \\mathrm{e}^{\\beta_1 t}\\mathrm{e}^{y} = \\mathrm{e}^{-\\beta_1 t}\\sum_{i=1}^{n}\\mathrm{e}^{x_{i}}\\\\\n",
    "\\Leftrightarrow \\mathrm{e}^{y + \\beta_1 t} = \\sum_{i=1}^{n}\\mathrm{e}^{x_{i} + \\beta_1 t} \\\\\n",
    "\\Leftrightarrow y + \\beta_1 t = \\ln{\\sum_{i=1}^{n}\\mathrm{e}^{x_{i} + \\beta_1 t}}\\\\\n",
    "\\Leftrightarrow y = -\\beta_1 t + \\ln{\\sum_{i=1}^{n}\\mathrm{e}^{x_{i} + \\beta_1 t}}\\\\\n",
    "\\Leftrightarrow y = -\\beta_1 t + \\ln{\\mathrm{e}^{\\left(\\beta_1-\\beta_2\\right)t}}\n",
    "\\end{align}$$\n",
    "\n",
    "As such, our initial log equation will become as follows:\n",
    "$$\\begin{align}\\tag{4}\n",
    "\\ln{f(t;\\beta_1, \\beta_2)} = \\ln{\\left(\\beta_1\\beta_2\\right)} - \\ln{\\left(\\beta_2-\\beta_1\\right)}+\\ln{\\mathrm{e}^{\\left(\\beta_1-\\beta_2\\right)t}}\\\\\n",
    "= \\ln{\\beta_1} + \\ln{\\beta_2} - \\ln{(\\beta_2-\\beta_1)} -\\beta_1 t - ln{\\mathrm{e}^{\\left(\\beta_1-\\beta_2\\right)t}} \\\\\n",
    "= \\ln{\\beta_1} + \\ln{\\beta_2} - \\ln{(\\beta_2-\\beta_1)} -\\beta_1 t - \\left(\\beta_1-\\beta_2\\right)t\n",
    "\\end{align}$$\n",
    "\n",
    "Taking the partial derivatives of each terms gives:\n",
    "$$\\begin{align}\\tag{5}\n",
    "\\frac{\\partial L}{\\partial \\beta_1} = \\frac{1}{\\beta_1} + 0 - \\left(\\frac{1}{\\beta_2-\\beta_1}\\left(0-1\\right)\\right) - t - t + 0 \\\\\n",
    "= \\frac{1}{\\beta_1} + \\frac{1}{\\beta_2-\\beta_1} - 2t\n",
    "\\end{align}$$\n",
    "$$\\begin{align}\\tag{6}\n",
    "\\frac{\\partial L}{\\partial \\beta_2} = 0 + \\frac{1}{\\beta_2}-\\left(\\frac{1}{\\beta_2-\\beta_1}\\left(1-0\\right)\\right)-0-0+t\\\\\n",
    "= \\frac{1}{\\beta_2} - \\frac{1}{\\beta_2-\\beta_1} + t\n",
    "\\end{align}$$\n",
    "$$\\begin{align}\\tag{7}\n",
    "\\frac{\\partial L}{\\partial t} = 0 + 0 - 0 -\\beta_1 -\\beta_1 + \\beta_2\\\\\n",
    "= \\beta_2 - 2\\beta_1\\\\\n",
    "\\end{align}$$\n",
    "\n",
    "We can evaluate the turning point by setting $\\frac{\\partial L}{\\partial t} = 0$, which gives the expression: \n",
    "$$\\begin{align}\\tag{8}\n",
    "\\beta_1 = \\frac{1}{2}\\beta_2 \\Leftrightarrow 2\\beta_1 = \\beta_2\n",
    "\\end{align}$$\n",
    "\n",
    "Whereas we can rearrange our initial equation to express $t$ in terms of $\\beta_1$ and $\\beta_2$: \n",
    "$$\\begin{align}\\tag{9}\n",
    "t = \\frac{\\ln{\\beta_1} + \\ln{\\beta_2} - \\ln{\\left(\\beta_2-\\beta_1\\right)}}{2\\beta_1-\\beta_2}\n",
    "\\end{align}$$\n",
    "\n",
    "As such, the turning point are points where-in: \n",
    "$$\\begin{align}\\tag{10}\n",
    "\\beta_1 = \\frac{1}{2} \\wedge \\beta_2 = 1\n",
    "\\end{align}$$\n",
    "$$\\begin{align}\\tag{11}\n",
    "2\\beta_1 - \\beta_2 \\neq 0 \\wedge t = \\frac{\\ln{\\beta_1} + \\ln{\\beta_2} - \\ln{\\left(\\beta_2-\\beta_1\\right)}}{2\\beta_1-\\beta_2}\n",
    "\\end{align}$$\n"
   ]
  },
  {
   "cell_type": "markdown",
   "metadata": {},
   "source": [
    "Using a numerical approach, we defined the log likelihood function using the gamma distribution, as well as the corresponding MLE."
   ]
  },
  {
   "cell_type": "code",
   "execution_count": 7,
   "metadata": {},
   "outputs": [],
   "source": [
    "def log_like_iid_gamma(params, n):\n",
    "    \n",
    "    beta1, beta2 = params\n",
    "    mlesum = 0\n",
    "\n",
    "    for t in n:\n",
    "        mlesum += np.log(beta1)+ np.log(beta2) - np.log((beta2-beta1)) + np.log(np.exp(-beta1*t) - np.exp(-beta2*t))\n",
    "        if (math.isnan(mlesum)):\n",
    "            return -np.inf\n",
    "    return mlesum\n",
    "\n",
    "def mle_iid_custom(n):\n",
    "    \"\"\"Perform maximum likelihood estimates for parameters for i.i.d.\"\"\"\n",
    "#     with warnings.catch_warnings():\n",
    "#         warnings.simplefilter(\"ignore\")\n",
    "\n",
    "    res = scipy.optimize.minimize(\n",
    "        fun=lambda params, n: -log_like_iid_gamma(params, n),\n",
    "        x0=np.array([0.0035, 0.0045]),\n",
    "        args=(n,),\n",
    "        method='Powell',\n",
    "    )\n",
    "    if res.success:\n",
    "        return res.x\n",
    "    else:\n",
    "        raise RuntimeError('Convergence failed with message', res.message)"
   ]
  },
  {
   "cell_type": "markdown",
   "metadata": {},
   "source": [
    "Now we run our MLE to obtain our beta values."
   ]
  },
  {
   "cell_type": "code",
   "execution_count": 8,
   "metadata": {},
   "outputs": [
    {
     "name": "stderr",
     "output_type": "stream",
     "text": [
      "C:\\Users\\sr_pa\\AppData\\Local\\Temp/ipykernel_30112/519852826.py:7: RuntimeWarning: invalid value encountered in log\n",
      "  mlesum += np.log(beta1)+ np.log(beta2) - np.log((beta2-beta1)) + np.log(np.exp(-beta1*t) - np.exp(-beta2*t))\n",
      "C:\\Users\\sr_pa\\AppData\\Local\\Temp/ipykernel_30112/519852826.py:7: RuntimeWarning: overflow encountered in exp\n",
      "  mlesum += np.log(beta1)+ np.log(beta2) - np.log((beta2-beta1)) + np.log(np.exp(-beta1*t) - np.exp(-beta2*t))\n",
      "D:\\Anaconda3\\envs\\py38\\lib\\site-packages\\scipy\\optimize\\optimize.py:2215: RuntimeWarning: invalid value encountered in double_scalars\n",
      "  tmp2 = (x - v) * (fx - fw)\n",
      "D:\\Anaconda3\\envs\\py38\\lib\\site-packages\\scipy\\optimize\\optimize.py:2216: RuntimeWarning: invalid value encountered in double_scalars\n",
      "  p = (x - v) * tmp2 - (x - w) * tmp1\n"
     ]
    }
   ],
   "source": [
    "mle_labeled = mle_iid_custom(df_true[\"time to catastrophe (s)\"].values)"
   ]
  },
  {
   "cell_type": "code",
   "execution_count": 9,
   "metadata": {},
   "outputs": [
    {
     "name": "stdout",
     "output_type": "stream",
     "text": [
      "β1: 0.004491379510103659\n",
      "β2: 0.004582668616663547\n"
     ]
    }
   ],
   "source": [
    "print('β1: ' + str(mle_labeled[0]))\n",
    "print('β2: ' + str(mle_labeled[1]))"
   ]
  },
  {
   "cell_type": "markdown",
   "metadata": {},
   "source": [
    "We can define a function to draw our bootstrap replicates, as such:"
   ]
  },
  {
   "cell_type": "code",
   "execution_count": 10,
   "metadata": {},
   "outputs": [],
   "source": [
    "def draw_bs_sample(data):\n",
    "    \"\"\"Draw a bootstrap sample from a 1D data set.\"\"\"\n",
    "    return rg.choice(data, size=len(data))\n",
    "\n",
    "\n",
    "def draw_bs_reps_mle(mle_fun, data, args=(), size=1, progress_bar=False):\n",
    "\n",
    "    if progress_bar:\n",
    "        iterator = tqdm.tqdm(range(size))\n",
    "    else:\n",
    "        iterator = range(size)\n",
    "\n",
    "    return np.array([mle_fun(draw_bs_sample(data), *args) for _ in iterator])"
   ]
  },
  {
   "cell_type": "markdown",
   "metadata": {},
   "source": [
    "We run our bootstrap to obtain the confidence intervals for our beta values."
   ]
  },
  {
   "cell_type": "code",
   "execution_count": 11,
   "metadata": {},
   "outputs": [
    {
     "name": "stderr",
     "output_type": "stream",
     "text": [
      "C:\\Users\\sr_pa\\AppData\\Local\\Temp/ipykernel_30112/519852826.py:7: RuntimeWarning: invalid value encountered in log\n",
      "  mlesum += np.log(beta1)+ np.log(beta2) - np.log((beta2-beta1)) + np.log(np.exp(-beta1*t) - np.exp(-beta2*t))\n",
      "C:\\Users\\sr_pa\\AppData\\Local\\Temp/ipykernel_30112/519852826.py:7: RuntimeWarning: overflow encountered in exp\n",
      "  mlesum += np.log(beta1)+ np.log(beta2) - np.log((beta2-beta1)) + np.log(np.exp(-beta1*t) - np.exp(-beta2*t))\n"
     ]
    }
   ],
   "source": [
    "bs_reps = draw_bs_reps_mle(\n",
    "    mle_iid_custom, df_true[\"time to catastrophe (s)\"].values, size=100,\n",
    ")"
   ]
  },
  {
   "cell_type": "code",
   "execution_count": 12,
   "metadata": {},
   "outputs": [
    {
     "name": "stdout",
     "output_type": "stream",
     "text": [
      "β1: 0.0044 | 95% conf int β1: [0.00396105 0.0045624 ]\n",
      "β2: 0.0047 | 95% conf int β2: [0.00440738 0.00547511]\n"
     ]
    }
   ],
   "source": [
    "conf_int = np.percentile(bs_reps, [2.5, 97.5], axis=0)\n",
    "conf_int = np.transpose(conf_int)\n",
    "\n",
    "print('β1: {:.4f} | 95% conf int β1: {}'.format(np.mean(bs_reps[:,0]),str(conf_int[0])))\n",
    "print('β2: {:.4f} | 95% conf int β2: {}'.format(np.mean(bs_reps[:,1]),str(conf_int[1])))"
   ]
  },
  {
   "cell_type": "markdown",
   "metadata": {},
   "source": [
    "Comparing the parameter estimates from both the analytical and numerical approach gives very different results; in our analytical approach we were not able to find a single point for the MLE, whereas using bootstrapping methods we can obtain precise beta values with a small confidence interval range."
   ]
  },
  {
   "cell_type": "markdown",
   "metadata": {},
   "source": [
    "## Attributes: \n",
    "\n",
    "Done altogether as a group"
   ]
  }
 ],
 "metadata": {
  "interpreter": {
   "hash": "88518d73fb4d6293ebfd761b9e63bb9d6d5fcdaf9e04b86aaf99154078be4abc"
  },
  "kernelspec": {
   "display_name": "Python 3 (ipykernel)",
   "language": "python",
   "name": "python3"
  },
  "language_info": {
   "codemirror_mode": {
    "name": "ipython",
    "version": 3
   },
   "file_extension": ".py",
   "mimetype": "text/x-python",
   "name": "python",
   "nbconvert_exporter": "python",
   "pygments_lexer": "ipython3",
   "version": "3.8.8"
  }
 },
 "nbformat": 4,
 "nbformat_minor": 4
}
